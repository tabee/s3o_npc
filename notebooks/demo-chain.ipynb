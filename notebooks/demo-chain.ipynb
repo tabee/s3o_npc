{
 "cells": [
  {
   "cell_type": "code",
   "execution_count": null,
   "metadata": {},
   "outputs": [],
   "source": [
    "#setup requirements\n",
    "%pip install -r ./../requirements.txt"
   ]
  },
  {
   "cell_type": "code",
   "execution_count": null,
   "metadata": {},
   "outputs": [],
   "source": [
    "# load openai_api_key from .env file\n",
    "from dotenv import load_dotenv\n",
    "import os\n",
    "\n",
    "load_dotenv()\n",
    "openai_api_key = os.environ.get('OPENAI_API_KEY')\n",
    "\n",
    "model=\"gpt-3.5-turbo\""
   ]
  },
  {
   "cell_type": "code",
   "execution_count": null,
   "metadata": {},
   "outputs": [],
   "source": [
    "# import of langchain\n",
    "from langchain.prompts import PromptTemplate\n",
    "from langchain.chat_models import ChatOpenAI\n",
    "from langchain.schema import StrOutputParser"
   ]
  },
  {
   "cell_type": "code",
   "execution_count": null,
   "metadata": {},
   "outputs": [],
   "source": [
    "text_input = \"\"\"\n",
    "\n",
    "    # Medienmitteilung\n",
    "\n",
    "    ## Bundesrat genehmigt generelles Projekt zur Engpassbeseitigung zwischen Genf und Nyon\n",
    "    Bern, 25.10.2023 - Der Bundesrat hat an seiner Sitzung vom 25.10.2023 das generelle Projekt zur Engpassbeseitigung zwischen der Verzweigung Le Vengeron und dem Anschluss Nyon auf der Autobahn A1 genehmigt. Dank dieser Massnahme kann ein flüssiger und sicherer Verkehrsfluss auf diesem Autobahnabschnitt gewährleistet und die Verkehrsbelastung im nachgelagerten Strassennetz erheblich reduziert werden.\n",
    "\n",
    "    Die geplanten Arbeiten dienen dazu, den Engpass auf der Autobahn A1 zwischen Genf, Coppet und Nyon zu beseitigen. Ausserdem werden dadurch der Verkehrsablauf auf der Kantonsstrasse sowie die Effizienz der Autobahnanschlüsse verbessert. Um den Bedürfnissen des öffentlichen Regionalverkehrs Rechnung zu tragen, werden Bus-Streifen eingerichtet. Ebenfalls vorgesehen sind gesicherte Infrastrukturen für den Langsamverkehr.\n",
    "\n",
    "    Die wichtigsten im generellen Projekt vorgesehenen baulichen Massnahmen sind:\n",
    "\n",
    "    die Verbreiterung der Autobahn auf drei Fahrstreifen pro Fahrtrichtung auf einer Länge von rund 19 Kilometern zwischen der Verzweigung Le Vengeron und dem Anschluss Nyon. Ausserdem wird die Autobahnachse auf einem etwa 2,8 Kilometer langen Abschnitt versetzt, um ein Amphibienlaichgebiet zu erhalten, welches im Inventar der Amphibienlaichgebiete von nationaler Bedeutung verzeichnet ist;\n",
    "    der Umbau der Verzweigung Le Vengeron samt Bau neuer Zubringer;\n",
    "    die Umgestaltung des Anschlusses Coppet und\n",
    "    die Reorganisation des Anschlusses Nyon samt Bau neuer Zubringer.\n",
    "    Die Kosten des Vorhabens betragen rund 956 Millionen Franken.\n",
    "\n",
    "    Das Parlament hat dieses Projekt in den Ausbauschritt 2023 für die Nationalstrassen aufgenommen. Dies unter dem Vorbehalt, dass der Bundesrat das generelle Projekt bis spätestens Ende 2023 genehmigt. Diese Voraussetzung ist inzwischen erfüllt. Die vollständige Inbetriebnahme ist für 2041 vorgesehen. Im Jahr 2033 sollen die Bauarbeiten aufgenommen werden.\n",
    "\n",
    "    Adresse für Rückfragen\n",
    "\n",
    "    Mediendienst Bundesamt für Strassen ASTRA +41 58 464 14 91\n",
    "    \n",
    "\"\"\""
   ]
  },
  {
   "cell_type": "code",
   "execution_count": null,
   "metadata": {},
   "outputs": [],
   "source": [
    "# Analyse der Fakten und Zusammenfassung der Medienmitteilung\n",
    "prompt = PromptTemplate.from_template(\"\"\"\n",
    "    Analysiere den folgenden Text und \n",
    "    identifiziere alle wichtigen Fakten.\n",
    "    Fasse die Medenienmitteilung, mit Fokus auf wichtige Fakten zusammen.\n",
    "    Der Text ist von news.admin.ch und eine \n",
    "    offizielle Medienmitteilung: \\n {topic}\\n\\n\n",
    "    Gebe folgendes zurück; deine kurze Analyse zu den Fakten und anschliessend die eigentliche medienmitteilung auf das wesentliche zusammengefasst:\n",
    "\"\"\")\n",
    "runnable = prompt | ChatOpenAI(model=model) | StrOutputParser()\n",
    "result_analyse = runnable.invoke({\"topic\": text_input})\n",
    "print(result_analyse)"
   ]
  },
  {
   "cell_type": "code",
   "execution_count": null,
   "metadata": {},
   "outputs": [],
   "source": [
    "# 10 keywords aus Analyse der Fakten und Zusammenfassung der Medienmitteilung\n",
    "prompt = PromptTemplate.from_template(\"\"\"\n",
    "    Analysiere den folgenden Text und \n",
    "    identifiziere 10 Keywords, die gut in Google \n",
    "    (deutschsprachige Schweiz) ranken würden. \n",
    "    Der Text ist von news.admin.ch und daher eine \n",
    "    offizielle Medienmitteilung: \\n {topic}\\n\\n\n",
    "    Beispiele für Keywords: #EFD #Bildung #Schweiz #Bildungsraum #Bildungsbericht2019 #EDK #WBF #Bildungspolitik #Bildungssystem #Bildungssystem\\n\\n\n",
    "    Achte darauf das vor jedem Keyword ein # steht und das das Keyword jeweils nur aus einem Wort besteht. \\n\\n\n",
    "    Deine 10 Keywords:#\n",
    "\"\"\")\n",
    "runnable = prompt | ChatOpenAI(model=model) | StrOutputParser()\n",
    "result_keywords10 = runnable.invoke({\"topic\": result_analyse})\n",
    "print(result_keywords10)"
   ]
  },
  {
   "cell_type": "code",
   "execution_count": null,
   "metadata": {},
   "outputs": [],
   "source": [
    "# 3 gute Keywords aus der Top 10 bzw. der Analyse der Fakten und Zusammenfassung der Medienmitteilung\n",
    "prompt = PromptTemplate.from_template(\"\"\"\n",
    "    Analysiere den folgenden Text und \n",
    "    identifiziere exakt 3 Keywords, die gut in Google \n",
    "    (deutschsprachige Schweiz) ranken würden. \n",
    "    Der Text ist von news.admin.ch und daher eine \n",
    "    offizielle Medienmitteilung: \\n {topic}\\n\\n\n",
    "    Mögliche gute Keywords für diese Medienmitteilung: {keywords10}\\n\\n\n",
    "    Achte darauf das vor jedem Keyword ein # steht und das das Keyword jeweils nur aus einem Wort besteht. \\n\\n\n",
    "    Deine 3 Keywords:\n",
    "\"\"\")\n",
    "runnable = prompt | ChatOpenAI(model=model) | StrOutputParser()\n",
    "result_keywords03 = runnable.invoke({\"topic\": result_analyse, \"keywords10\": result_keywords10})\n",
    "print(result_keywords03)"
   ]
  },
  {
   "cell_type": "code",
   "execution_count": null,
   "metadata": {},
   "outputs": [],
   "source": [
    "# Tweet mit den 3 top Keywords, 3 emojis und einem Link zur Medienmitteilung\n",
    "prompt = PromptTemplate.from_template(\"\"\"\n",
    "    Du bist politisch neutral und erstellst einen Tweet aus einer Medienmitteilung.\n",
    "    Du arbeitest in der Social Media Abteilung vom Bundesrat. Dein Tweet fasst das\n",
    "    wichtigste der Medienmitteilung zusammen. Medienmittelung: \\n {topic}\\n\\n\n",
    "    Es ist wichtig das in deinem Tweet folgende 3 Keywords enthalten sind: {keywords3}\\n\\n\n",
    "    Achte darauf das vor jedem Keyword ein # steht und das das Keyword jeweils nur aus einem Wort besteht. \\n\\n\n",
    "    Der Tweet endet immer mit [URL-Medienmitteilung]\n",
    "    Deine politisch neutraler tweet inkl 3 emojis, mit den 3 gewünschten Keywords:\n",
    "\"\"\")\n",
    "runnable = prompt | ChatOpenAI(model=model) | StrOutputParser()\n",
    "result = runnable.invoke({\"topic\": result_analyse, \"keywords3\": result_keywords03})\n",
    "print(result)"
   ]
  },
  {
   "cell_type": "code",
   "execution_count": null,
   "metadata": {},
   "outputs": [],
   "source": [
    "# Mögliche Fragen von 20min.ch vom Reporter\n",
    "prompt = PromptTemplate.from_template(\"\"\"\n",
    "    Du bist ein Reporter von 20min.ch und wirst 10 kritische Fragen erfassen.\n",
    "    Die Fragen sind kritisch, aber nicht beleidigend und beziehen sich auf die Medienmitteilung: \\n {topic}\\n\\n\n",
    "    Deine 10 kritischen Fragen:\n",
    "\"\"\")\n",
    "runnable = prompt | ChatOpenAI(model=model) | StrOutputParser()\n",
    "result_fragen_20min = runnable.invoke({\"topic\": result_analyse})\n",
    "print(result_fragen_20min)"
   ]
  },
  {
   "cell_type": "code",
   "execution_count": null,
   "metadata": {},
   "outputs": [],
   "source": [
    "# Mögliche Fragen von der NZZ Reporterin\n",
    "prompt = PromptTemplate.from_template(\"\"\"\n",
    "    Du bist eine Reporterin von der NZZ (Neue Zürcher Zeitung) und wirst 10 kritische Fragen erfassen.\n",
    "    Die Fragen sind kritisch, aber nicht beleidigend und beziehen sich auf die Medienmitteilung: \\n {topic}\\n\\n\n",
    "    Deine 10 kritischen Fragen:\n",
    "\"\"\")\n",
    "runnable = prompt | ChatOpenAI(model=model) | StrOutputParser()\n",
    "result_fragen_nzz = runnable.invoke({\"topic\": result_analyse})\n",
    "print(result_fragen_nzz)"
   ]
  },
  {
   "cell_type": "code",
   "execution_count": null,
   "metadata": {},
   "outputs": [],
   "source": [
    "# Zusammenfassung der Medienmitteilung für ein 10 jähriges Kind\n",
    "prompt = PromptTemplate.from_template(\"\"\"\n",
    "    Erstelle eine Zusammenfassung aus folgendem Text für ein 10 jähriges Kind: {topic} \\n\\n\n",
    "    Deine kindergerechte Zusammenfassung:\n",
    "\"\"\")\n",
    "runnable = prompt | ChatOpenAI(model=model) | StrOutputParser()\n",
    "result_zusammenfassung_kind = runnable.invoke({\"topic\": result_analyse})\n",
    "print(result_zusammenfassung_kind)"
   ]
  },
  {
   "cell_type": "code",
   "execution_count": null,
   "metadata": {},
   "outputs": [],
   "source": [
    "# prompt für Dalle 3\n",
    "prompt = PromptTemplate.from_template(\"\"\"\n",
    "    Erstelle ein Prompt für DALL·E 3 aus folgendem Text: {topic} \\n\\n\n",
    "    Prompt für DALL·E 3 als strichzeichnung (comic-style ohne sprechblasen):\n",
    "\"\"\")\n",
    "runnable = prompt | ChatOpenAI(model=model) | StrOutputParser()\n",
    "result_dall3prompt= runnable.invoke({\"topic\": result_zusammenfassung_kind})\n",
    "print(result_dall3prompt)"
   ]
  },
  {
   "cell_type": "code",
   "execution_count": null,
   "metadata": {},
   "outputs": [],
   "source": [
    "from langchain.utilities.dalle_image_generator import DallEAPIWrapper\n",
    "from langchain.prompts import PromptTemplate\n",
    "from langchain.chains import LLMChain\n",
    "from langchain.llms import OpenAI\n",
    "\n",
    "llm = OpenAI(temperature=0.9)\n",
    "prompt = PromptTemplate(\n",
    "    input_variables=[\"image_desc\"],\n",
    "    template=\"Generate a detailed prompt based on: {image_desc}\",\n",
    ")\n",
    "chain = LLMChain(llm=llm, prompt=prompt)\n",
    "image_url = DallEAPIWrapper().run(chain.run(result_dall3prompt))"
   ]
  },
  {
   "cell_type": "code",
   "execution_count": null,
   "metadata": {},
   "outputs": [],
   "source": [
    "image_url"
   ]
  }
 ],
 "metadata": {
  "kernelspec": {
   "display_name": "Python 3",
   "language": "python",
   "name": "python3"
  },
  "language_info": {
   "codemirror_mode": {
    "name": "ipython",
    "version": 3
   },
   "file_extension": ".py",
   "mimetype": "text/x-python",
   "name": "python",
   "nbconvert_exporter": "python",
   "pygments_lexer": "ipython3",
   "version": "3.10.8"
  }
 },
 "nbformat": 4,
 "nbformat_minor": 2
}
