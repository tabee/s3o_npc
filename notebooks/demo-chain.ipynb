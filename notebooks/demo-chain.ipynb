{
 "cells": [
  {
   "cell_type": "code",
   "execution_count": null,
   "metadata": {},
   "outputs": [],
   "source": [
    "#setup requirements\n",
    "%pip install -r ./../requirements.txt"
   ]
  },
  {
   "cell_type": "code",
   "execution_count": null,
   "metadata": {},
   "outputs": [],
   "source": [
    "# load openai_api_key from .env file\n",
    "from dotenv import load_dotenv\n",
    "import os\n",
    "\n",
    "load_dotenv()\n",
    "openai_api_key = os.environ.get('OPENAI_API_KEY')\n"
   ]
  },
  {
   "cell_type": "code",
   "execution_count": null,
   "metadata": {},
   "outputs": [],
   "source": [
    "# import of langchain\n",
    "from langchain.prompts import PromptTemplate\n",
    "from langchain.chat_models import ChatOpenAI\n",
    "from langchain.schema import StrOutputParser"
   ]
  },
  {
   "cell_type": "code",
   "execution_count": null,
   "metadata": {},
   "outputs": [],
   "source": [
    "text_input = \"\"\"\n",
    "\n",
    "    # Medienmitteilung\n",
    "\n",
    "    ## Bund und EDK bestätigen ihre gemeinsamen bildungspolitischen Ziele\n",
    "    \n",
    "    Bern, 27.10.2023 - Die Konferenz der kantonalen Erziehungsdirektorinnen und -direktoren (EDK) hat an ihrer Jahresversammlung zusammen mit dem Eidgenössischen Departement für Wirtschaft, Bildung und Forschung (WBF) die gemeinsamen bildungspolitischen Ziele für den Bildungsraum Schweiz aktualisiert. Die langfristig angelegten Ziele wurden basierend auf dem neuen Bildungsbericht 2023 überprüft und fortgeschrieben. Ein neues Ziel drängt sich nicht auf.\n",
    "\n",
    "    Die gemeinsamen bildungspolitischen Ziele von Bund und Kantonen stützen sich auf die aktuellen Erkenntnisse des Schweizer Bildungsberichtes 2023. Sie bestätigen die wichtigen strategischen Prioritäten: Alle bildungspolitischen Ziele bleiben relevant und werden langfristig weiterverfolgt. Um neuere Entwicklungen aufzunehmen, wurden die Erläuterungen zu den Zielen teilweise angepasst.\n",
    "\n",
    "    Das gemeinsame Ziel 2, wonach 95% aller 25-Jährigen über einen Abschluss auf der Sekundarstufe II verfügen, ist noch nicht für alle Bevölkerungsgruppen erreicht. Wie der Bildungsbericht Schweiz 2023 zeigt, beträgt die entsprechende Quote aktuell 91,4%. Die Abschlussquoten unterscheiden sich dabei deutlich, sei es nach dem Typ der Ausbildung, die die Lernenden im Alter von 15 Jahren absolvieren, oder nach dem Migrationsstatus. Schweizerinnen und Schweizer haben eine höhere Abschlussquote als Ausländerinnen und Ausländer. In der Schweiz geborene Ausländerinnen und Ausländer wiederum haben höhere Quoten als Personen, die später einwanderten. Schliesslich weisen auch die Kantone unterschiedliche Abschlussquoten auf. Diese vielschichtigen Befunde erfordern differenzierte Massnahmen. Dazu gehört insbesondere die Umsetzung der Projekte im Rahmen der Berufsbildung 2030.\n",
    "\n",
    "    Die gemeinsamen Ziele 3 und 5 betreffen die gymnasiale Maturität. Im Sommer 2023 haben Bund und Kantone im Rahmen des Projektes «Weiterentwicklung der gymnasialen Maturität» die gemeinsam aktualisierten Rechtsgrundlagen verabschiedet. Damit wird die anerkannt hohe Qualität der gymnasialen Maturität weiterhin schweizweit und auf lange Sicht gesichert und der prüfungsfreie Zugang zur Universität mit gymnasialer Maturität langfristig gewährleistet. Zudem steigert die Totalrevision die schweizweite Vergleichbarkeit von Maturitätszeugnissen. Aktuell läuft die Anhörung der EDK zum Rahmenlehrplan. Die revidierten Texte - Verordnung und Reglement, Vereinbarung und Rahmenlehrplan - sollen am 1. August 2024 in Kraft treten. \n",
    "\n",
    "    Neben den acht gemeinsamen bildungspolitischen Zielen koordinieren Bund und Kantone ihre Tätigkeiten auch in weiteren zentralen Themen der Bildungspolitik. Dazu gehören die Bildung für nachhaltige Entwicklung (BNE), die poli­tische Bildung (éducation à la citoyenneté), die Implementierung der Fachdidaktiken in der Lehrerinnen- und Lehrerbildung sowie die Bekämpfung des Fachkräftemangels insbesondere im Lehrberuf, in den MINT- und den Gesundheitsberufen.\n",
    "\n",
    "    Bund und Kantone verständigen sich seit 2011 auf gemeinsame bildungspolitische Ziele, die sie jeweils in einer gemeinsamen Erklärung festlegen. Seither werden die Ziele unter Berücksichtigung der Bil­dungsberichterstattung regelmässig fortgeschrieben. Die Grundlage für die Zusammenarbeit im Bereich der Ziele bildet die in der Bundesverfassung verankerte Verpflichtung von Bund und Kantonen, gemeinsam im Rahmen ihrer Zuständigkeit für eine hohe Qualität und Durchlässigkeit des Bildungsraums Schweiz zu sorgen (Art. 61a Abs 1 BV). Während die obligatorische Schule in der Kompetenz der Kantone liegt, sind die Zuständigkeiten im nachobligatorischen Bereich zwischen Bund und Kantonen aufgeteilt.\n",
    "\n",
    "    Adresse für Rückfragen\n",
    "\n",
    "    Mediendienst EDK, +41 31 309 51 11, presse@edk.ch\n",
    "    Kommunikationsdienst WBF, +41 58 462 20 07, info@gs-wbf.admin.ch\n",
    "    \n",
    "\"\"\""
   ]
  },
  {
   "cell_type": "code",
   "execution_count": null,
   "metadata": {},
   "outputs": [],
   "source": [
    "# Analyse der Fakten und Zusammenfassung der Medienmitteilung\n",
    "prompt = PromptTemplate.from_template(\"\"\"\n",
    "    Analysiere den folgenden Text und \n",
    "    identifiziere alle wichtigen Fakten.\n",
    "    Fasse die Medenienmitteilung, mit Fokus auf wichtige Fakten zusammen.\n",
    "    Der Text ist von news.admin.ch und eine \n",
    "    offizielle Medienmitteilung: \\n {topic}\\n\\n\n",
    "    Gebe folgendes zurück; deine kurze Analyse zu den Fakten und anschliessend die eigentliche medienmitteilung auf das wesentliche zusammengefasst:\n",
    "\"\"\")\n",
    "runnable = prompt | ChatOpenAI(model=\"gpt-4\") | StrOutputParser()\n",
    "result_analyse = runnable.invoke({\"topic\": text_input})\n",
    "print(result_analyse)"
   ]
  },
  {
   "cell_type": "code",
   "execution_count": null,
   "metadata": {},
   "outputs": [],
   "source": [
    "# 10 keywords aus Analyse der Fakten und Zusammenfassung der Medienmitteilung\n",
    "prompt = PromptTemplate.from_template(\"\"\"\n",
    "    Analysiere den folgenden Text und \n",
    "    identifiziere 10 Keywords, die gut in Google \n",
    "    (deutschsprachige Schweiz) ranken würden. \n",
    "    Der Text ist von news.admin.ch und daher eine \n",
    "    offizielle Medienmitteilung: \\n {topic}\\n\\n\n",
    "    Beispiele für Keywords: #EFD #Bildung #Schweiz #Bildungsraum #Bildungsbericht2019 #EDK #WBF #Bildungspolitik #Bildungssystem #Bildungssystem\\n\\n\n",
    "    Achte darauf das vor jedem Keyword ein # steht und das das Keyword jeweils nur aus einem Wort besteht. \\n\\n\n",
    "    Deine 10 Keywords:#\n",
    "\"\"\")\n",
    "runnable = prompt | ChatOpenAI(model=\"gpt-4\") | StrOutputParser()\n",
    "result_keywords10 = runnable.invoke({\"topic\": result_analyse})\n",
    "print(result_keywords10)"
   ]
  },
  {
   "cell_type": "code",
   "execution_count": null,
   "metadata": {},
   "outputs": [],
   "source": [
    "# 3 gute Keywords aus der Top 10 bzw. der Analyse der Fakten und Zusammenfassung der Medienmitteilung\n",
    "prompt = PromptTemplate.from_template(\"\"\"\n",
    "    Analysiere den folgenden Text und \n",
    "    identifiziere exakt 3 Keywords, die gut in Google \n",
    "    (deutschsprachige Schweiz) ranken würden. \n",
    "    Der Text ist von news.admin.ch und daher eine \n",
    "    offizielle Medienmitteilung: \\n {topic}\\n\\n\n",
    "    Mögliche gute Keywords für diese Medienmitteilung: {keywords10}\\n\\n\n",
    "    Achte darauf das vor jedem Keyword ein # steht und das das Keyword jeweils nur aus einem Wort besteht. \\n\\n\n",
    "    Deine 3 Keywords:\n",
    "\"\"\")\n",
    "runnable = prompt | ChatOpenAI(model=\"gpt-4\") | StrOutputParser()\n",
    "result_keywords03 = runnable.invoke({\"topic\": result_analyse, \"keywords10\": result_keywords10})\n",
    "print(result_keywords03)"
   ]
  },
  {
   "cell_type": "code",
   "execution_count": null,
   "metadata": {},
   "outputs": [],
   "source": [
    "# Tweet mit den 3 top Keywords, 3 emojis und einem Link zur Medienmitteilung\n",
    "prompt = PromptTemplate.from_template(\"\"\"\n",
    "    Du bist politisch neutral und erstellst einen Tweet aus einer Medienmitteilung.\n",
    "    Du arbeitest in der Social Media Abteilung vom Bundesrat. Dein Tweet fasst das\n",
    "    wichtigste der Medienmitteilung zusammen. Medienmittelung: \\n {topic}\\n\\n\n",
    "    Es ist wichtig das in deinem Tweet folgende 3 Keywords enthalten sind: {keywords3}\\n\\n\n",
    "    Achte darauf das vor jedem Keyword ein # steht und das das Keyword jeweils nur aus einem Wort besteht. \\n\\n\n",
    "    Der Tweet endet immer mit [URL-Medienmitteilung]\n",
    "    Deine politisch neutraler tweet inkl 3 emojis, mit den 3 gewünschten Keywords:\n",
    "\"\"\")\n",
    "runnable = prompt | ChatOpenAI(model=\"gpt-4\") | StrOutputParser()\n",
    "result = runnable.invoke({\"topic\": result_analyse, \"keywords3\": result_keywords03})\n",
    "print(result)"
   ]
  },
  {
   "cell_type": "code",
   "execution_count": null,
   "metadata": {},
   "outputs": [],
   "source": [
    "# Mögliche Fragen von 20min.ch vom Reporter\n",
    "prompt = PromptTemplate.from_template(\"\"\"\n",
    "    Du bist ein Reporter von 20min.ch und wirst 10 kritische Fragen erfassen.\n",
    "    Die Fragen sind kritisch, aber nicht beleidigend und beziehen sich auf die Medienmitteilung: \\n {topic}\\n\\n\n",
    "    Deine 10 kritischen Fragen:\n",
    "\"\"\")\n",
    "runnable = prompt | ChatOpenAI(model=\"gpt-4\") | StrOutputParser()\n",
    "result_fragen_20min = runnable.invoke({\"topic\": result_analyse})\n",
    "print(result_fragen_20min)"
   ]
  },
  {
   "cell_type": "code",
   "execution_count": null,
   "metadata": {},
   "outputs": [],
   "source": [
    "# Mögliche Fragen von der NZZ Reporterin\n",
    "prompt = PromptTemplate.from_template(\"\"\"\n",
    "    Du bist eine Reporterin von der NZZ (Neue Zürcher Zeitung) und wirst 10 kritische Fragen erfassen.\n",
    "    Die Fragen sind kritisch, aber nicht beleidigend und beziehen sich auf die Medienmitteilung: \\n {topic}\\n\\n\n",
    "    Deine 10 kritischen Fragen:\n",
    "\"\"\")\n",
    "runnable = prompt | ChatOpenAI(model=\"gpt-4\") | StrOutputParser()\n",
    "result_fragen_nzz = runnable.invoke({\"topic\": result_analyse})\n",
    "print(result_fragen_nzz)"
   ]
  },
  {
   "cell_type": "code",
   "execution_count": null,
   "metadata": {},
   "outputs": [],
   "source": [
    "# Zusammenfassung der Medienmitteilung für ein 10 jähriges Kind\n",
    "prompt = PromptTemplate.from_template(\"\"\"\n",
    "    Erstelle eine Zusammenfassung aus folgendem Text für ein 10 jähriges Kind: {topic} \\n\\n\n",
    "    Deine kindergerechte Zusammenfassung:\n",
    "\"\"\")\n",
    "runnable = prompt | ChatOpenAI(model=\"gpt-4\") | StrOutputParser()\n",
    "result_zusammenfassung_kind = runnable.invoke({\"topic\": result_analyse})\n",
    "print(result_zusammenfassung_kind)"
   ]
  },
  {
   "cell_type": "code",
   "execution_count": null,
   "metadata": {},
   "outputs": [],
   "source": [
    "# prompt für Dalle 3\n",
    "prompt = PromptTemplate.from_template(\"\"\"\n",
    "    Erstelle ein prompt für Dalle 3 aus folgendem Text: {topic} \\n\\n\n",
    "    Deine kindergerechte Zusammenfassung:\n",
    "\"\"\")\n",
    "runnable = prompt | ChatOpenAI(model=\"gpt-4\") | StrOutputParser()\n",
    "result_dall3prompt= runnable.invoke({\"topic\": result_zusammenfassung_kind})\n",
    "print(result_dall3prompt)"
   ]
  }
 ],
 "metadata": {
  "kernelspec": {
   "display_name": "Python 3",
   "language": "python",
   "name": "python3"
  },
  "language_info": {
   "codemirror_mode": {
    "name": "ipython",
    "version": 3
   },
   "file_extension": ".py",
   "mimetype": "text/x-python",
   "name": "python",
   "nbconvert_exporter": "python",
   "pygments_lexer": "ipython3",
   "version": "3.10.8"
  }
 },
 "nbformat": 4,
 "nbformat_minor": 2
}
