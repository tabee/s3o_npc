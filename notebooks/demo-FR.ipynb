{
 "cells": [
  {
   "cell_type": "markdown",
   "metadata": {},
   "source": [
    "# setup"
   ]
  },
  {
   "cell_type": "code",
   "execution_count": 1,
   "metadata": {},
   "outputs": [],
   "source": [
    "# load openai_api_key from .env file\n",
    "from dotenv import load_dotenv\n",
    "import os\n",
    "\n",
    "load_dotenv()\n",
    "openai_api_key = os.environ.get('OPENAI_API_KEY')\n",
    "\n",
    "model=\"gpt-4\"\n"
   ]
  },
  {
   "cell_type": "code",
   "execution_count": 2,
   "metadata": {},
   "outputs": [],
   "source": [
    "# import of langchain\n",
    "from langchain.prompts import PromptTemplate\n",
    "from langchain.chat_models import ChatOpenAI\n",
    "from langchain.schema import StrOutputParser"
   ]
  },
  {
   "cell_type": "markdown",
   "metadata": {},
   "source": [
    "# copy-paste a media release as 'text_input_medienmitteilung'"
   ]
  },
  {
   "cell_type": "code",
   "execution_count": 3,
   "metadata": {},
   "outputs": [],
   "source": [
    "text_input_medienmitteilung = \"\"\"\n",
    "\n",
    "    # Medienmitteilung\n",
    "\n",
    "    ## Ouverture de la consultation relative à la révision partielle de l’ordonnance régissant la taxe sur la valeur ajoutée\n",
    "    \n",
    "    Berne, 25.10.2023 - Lors de sa séance du 25 octobre 2023, le Conseil fédéral a ouvert la procédure de consultation relative à la révision partielle de l’ordonnance régissant la taxe sur la valeur ajoutée (OTVA). Cette révision porte notamment sur des dispositions d’exécution découlant de la révision partielle de la loi sur la TVA (LTVA), des simplifications concernant les décomptes au moyen des taux de la dette fiscale nette et des taux forfaitaires et une extension des démarches devant être effectuées en ligne.\n",
    "\n",
    "    La révision partielle de la LTVA adoptée par le Parlement en juin a permis de mettre en œuvre plusieurs motions transmises par les Chambres fédérales. Les modifications apportées à la loi nécessitent maintenant aussi des changements dans l’ordonnance, par exemple en ce qui concerne l’imposition des plateformes en ligne et la nouvelle possibilité d’établir un décompte annuel.\n",
    "\n",
    "    Le Conseil fédéral profite de cette révision pour mettre à jour et préciser l’OTVA dans d’autres domaines également. Dans son projet, il remanie notamment en profondeur les méthodes des taux de la dette fiscale nette et des taux forfaitaires pour accroître l’exactitude dans la détermination de la dette fiscale et simplifier ces méthodes de décompte de la TVA, pour les petites et moyennes entreprises entre autres. À titre de mesure de lutte contre la fraude, le projet prévoit par ailleurs l’obligation d’appliquer la procédure de déclaration en cas de paiement en espèces de 15 000 francs ou plus pour des prestations imposables entre personnes assujetties.\n",
    "\n",
    "    Enfin, le projet prescrit l’utilisation du portail électronique pour le dépôt des demandes et les annonces relatives aux méthodes, toutes facultatives, des taux de la dette fiscale nette et des taux forfaitaires, du décompte annuel et de l’imposition de groupe.\n",
    "\n",
    "    La révision partielle de l’OTVA devrait entrer en vigueur le 1er janvier 2025. Cette date est aussi celle visée pour l’introduction du décompte annuel, qui nécessite d’importants changements informatiques.\n",
    "\n",
    "    La consultation prendra fin le 8 février 2024.\n",
    "\n",
    "    Adresse pour l'envoi de questions\n",
    "    Administration fédérale des contributions AFC\n",
    "\"\"\""
   ]
  },
  {
   "cell_type": "markdown",
   "metadata": {},
   "source": [
    "# run this ai-machine"
   ]
  },
  {
   "cell_type": "code",
   "execution_count": 4,
   "metadata": {},
   "outputs": [
    {
     "name": "stdout",
     "output_type": "stream",
     "text": [
      "1. Le Conseil fédéral a ouvert la procédure de consultation relative à la révision partielle de l’ordonnance régissant la taxe sur la valeur ajoutée (OTVA) lors de sa séance du 25 octobre 2023.\n",
      "2. La révision porte sur des dispositions d’exécution découlant de la révision partielle de la loi sur la TVA (LTVA), des simplifications concernant les décomptes au moyen des taux de la dette fiscale nette et des taux forfaitaires et une extension des démarches devant être effectuées en ligne.\n",
      "3. La révision partielle de la LTVA adoptée par le Parlement en juin a permis de mettre en œuvre plusieurs motions transmises par les Chambres fédérales.\n",
      "4. Les modifications apportées à la loi nécessitent maintenant aussi des changements dans l’ordonnance, notamment en ce qui concerne l’imposition des plateformes en ligne et la nouvelle possibilité d’établir un décompte annuel.\n",
      "5. Le Conseil fédéral remanie les méthodes des taux de la dette fiscale nette et des taux forfaitaires pour accroître l’exactitude dans la détermination de la dette fiscale et simplifier ces méthodes de décompte de la TVA, pour les petites et moyennes entreprises entre autres.\n",
      "6. Le projet prévoit l’obligation d’appliquer la procédure de déclaration en cas de paiement en espèces de 15 000 francs ou plus pour des prestations imposables entre personnes assujetties, comme mesure de lutte contre la fraude.\n",
      "7. Le projet prescrit l’utilisation du portail électronique pour le dépôt des demandes et les annonces relatives aux méthodes, des taux de la dette fiscale nette et des taux forfaitaires, du décompte annuel et de l’imposition de groupe.\n",
      "8. La révision partielle de l’OTVA devrait entrer en vigueur le 1er janvier 2025.\n",
      "9. Cette date est aussi celle visée pour l’introduction du décompte annuel, qui nécessite d’importants changements informatiques.\n",
      "10. La consultation prendra fin le 8 février 2024.\n",
      "11. L'adresse pour l'envoi de questions est l'Administration fédérale des contributions AFC.\n"
     ]
    }
   ],
   "source": [
    "# result_facts: Analyze the following text and identify all important facts\n",
    "prompt = PromptTemplate.from_template(\"\"\"\n",
    "Analyze the following text and \n",
    "    identify all important facts.  \n",
    "    The text is from news.admin.ch and is an \n",
    "    official media release: \\n {medienmitteilung}\\n\\n\n",
    "    a fact analysis in the same language as\n",
    "    the media release:\n",
    "\"\"\")\n",
    "runnable = prompt | ChatOpenAI(model=model) | StrOutputParser()\n",
    "result_facts = runnable.invoke({\"medienmitteilung\": text_input_medienmitteilung})\n",
    "print(result_facts)"
   ]
  },
  {
   "cell_type": "code",
   "execution_count": 5,
   "metadata": {},
   "outputs": [
    {
     "name": "stdout",
     "output_type": "stream",
     "text": [
      "#ConseilFédéral #RévisionPartielle #OTVA #LTVA #TVA #PlateformesEnLigne #DécompteAnnuel #DetteFiscale #PortailÉlectronique #AdministrationFédéraleDesContributions\n"
     ]
    }
   ],
   "source": [
    "# result_top10keywords: Identify 10 keywords from the facts\n",
    "prompt = PromptTemplate.from_template(\"\"\"\n",
    "    Identify 10 keywords that are likely to rank well \n",
    "    on Google (Switzerland). \n",
    "    The keywords are in the same language as the \n",
    "    following text and start with a #.\n",
    "\n",
    "    Text: \n",
    "    {facts}\n",
    "    \n",
    "    Examples: #FederalCouncil #Geneva #Nyon #Motorway #A1 #Traffic #Trafficflow #Motorway     \n",
    "    Your keywords incl. #:\n",
    "\"\"\")\n",
    "runnable = prompt | ChatOpenAI(model=model) | StrOutputParser()\n",
    "result_top10keywords = runnable.invoke({\"facts\": result_facts})\n",
    "print(result_top10keywords)"
   ]
  },
  {
   "cell_type": "code",
   "execution_count": 6,
   "metadata": {},
   "outputs": [
    {
     "name": "stdout",
     "output_type": "stream",
     "text": [
      "#ConseilFédéral #RévisionPartielle #AdministrationFédéraleDesContributions\n"
     ]
    }
   ],
   "source": [
    "# result_top3keywords: Analyze the following keywords and text. \n",
    "prompt = PromptTemplate.from_template(\"\"\"\n",
    "    Analyze the following keywords and text. \n",
    "    Identify exactly 3 keywords that can rank \n",
    "    well on Google (Switzerland). \n",
    "\n",
    "    Examples: #FederalCouncil #ChuckNorris #Thailand  (on one line)\n",
    "   \n",
    "    ===============\n",
    "    Keywords: \n",
    "    {top10keywords}\n",
    "\n",
    "    Text: \n",
    "    {medienmitteilung}\n",
    "    ===============\n",
    "    Your top 3 keywords in the same language as the text/keywords:\n",
    "\"\"\")\n",
    "runnable = prompt | ChatOpenAI(model=model) | StrOutputParser()\n",
    "result_top3keywords = runnable.invoke({\"medienmitteilung\": text_input_medienmitteilung, \"top10keywords\": result_top10keywords})\n",
    "print(result_top3keywords)"
   ]
  },
  {
   "cell_type": "code",
   "execution_count": 7,
   "metadata": {},
   "outputs": [
    {
     "name": "stdout",
     "output_type": "stream",
     "text": [
      "1. \"📢📜 Le #ConseilFédéral a ouvert la procédure de consultation relative à la #RévisionPartielle de l’OTVA. 🎯 Principaux changements : simplifications des décomptes et extension des démarches en ligne. Date d'entrée en vigueur : 1er janvier 2025. [url] 📅💻\"\n",
      "\n",
      "2. \"🔍⚖️ La révision partielle de l'OTVA vise à augmenter l'exactitude dans la détermination de la dette fiscale et à simplifier les méthodes de décompte de la TVA. 🚀 Intégration d'un décompte annuel à partir de 2025. #ConseilFédéral #RévisionPartielle [url] 📈📊\"\n",
      "\n",
      "3. \"👥🔐 La #RévisionPartielle de l'OTVA par le #ConseilFédéral impose l'utilisation du portail électronique pour le dépôt des demandes et les annonces. ✍️ La consultation prendra fin le 8 février 2024. Questions? Adressez-vous à l'#AdministrationFédéraleDesContributions. [url] 📧📬\"\n"
     ]
    }
   ],
   "source": [
    "# result_tweets: write 3 matching tweets for a specific media release, facts, keywords.\n",
    "prompt = PromptTemplate.from_template(\"\"\"\n",
    "    You are a neutral media spokesperson for the Federal Council \n",
    "    and write 3 matching tweets for a specific media release.\n",
    "    \n",
    "    Your tweets always contain:\n",
    "    1. the 2 most important facts\n",
    "    2. the 3 most important keywords\n",
    "    3. 4 matching emojis.\n",
    "    4. the tweet ends with the string [url].\n",
    "\n",
    "    Rules:\n",
    "    You answer in the same language as the media release.\n",
    "\n",
    "    Sources: \n",
    "    ===========\n",
    "    Facts: {facts}\n",
    "    Top-Keywords: {top3keywords}\n",
    "    Media release: {medienmitteilung}\n",
    "    ==============\n",
    "    Your 3 different tweet suggestions:\n",
    "\"\"\")\n",
    "runnable = prompt | ChatOpenAI(model=model) | StrOutputParser()\n",
    "result_tweets = runnable.invoke({\"medienmitteilung\": text_input_medienmitteilung, \"top3keywords\": result_top3keywords, \"facts\": result_facts})\n",
    "print(result_tweets)"
   ]
  },
  {
   "cell_type": "code",
   "execution_count": 8,
   "metadata": {},
   "outputs": [
    {
     "name": "stdout",
     "output_type": "stream",
     "text": [
      "1. Comment le Conseil fédéral justifie-t-il l'extension des démarches à effectuer en ligne, notamment en termes de garanties de la sécurité des données et de la possibilité pour tous les citoyens d'y accéder facilement ? \n",
      "2. Pouvez-vous détailler davantage les modifications prévues pour les taux de la dette fiscale nette et les taux forfaitaires ? Quels seront les impacts concrets pour les petites et moyennes entreprises ? \n",
      "3. Comment le Conseil fédéral compte-t-il lutter efficacement contre la fraude fiscale, notamment en ce qui concerne l'obligation de déclaration pour les paiements en espèces de 15 000 francs ou plus ? Cette mesure ne risque-t-elle pas de pénaliser les entreprises légitimes plutôt que de cibler les fraudeurs ?\n"
     ]
    }
   ],
   "source": [
    "# result_fragen_20min: from 20min.ch/Wagenknecht and will collect 3 critical questions. \n",
    "prompt = PromptTemplate.from_template(\"\"\"\n",
    "    You are a reporter (male) for 20min.ch and \n",
    "    will collect 10 critical questions. \n",
    "    At the end we need the 3 most critical \n",
    "    questions.\n",
    "\n",
    "    You think like Sahra Wagenknecht. \n",
    "\n",
    "    It is important that the questions \n",
    "    directly to the press release.\n",
    "    \n",
    "    Important:\n",
    "    The questions are critical but not offensive. \n",
    "    and refer to the media release, the facts and a top keyword.\n",
    "\n",
    "    Rules:\n",
    "    Answer in the same language as the media release.\n",
    "\n",
    "    Sources: \n",
    "    ===========\n",
    "    Facts: {facts}\n",
    "    Top-Keywords: {top3keywords}\n",
    "    Media release: {medienmitteilung}\n",
    "    ==============\n",
    "    Your top-3 moust critical questions:\n",
    "\"\"\")\n",
    "runnable = prompt | ChatOpenAI(model=model) | StrOutputParser()\n",
    "result_fragen_20min = runnable.invoke({\"medienmitteilung\": text_input_medienmitteilung, \"top3keywords\": result_top3keywords, \"facts\": result_facts})\n",
    "print(result_fragen_20min)"
   ]
  },
  {
   "cell_type": "code",
   "execution_count": 9,
   "metadata": {},
   "outputs": [
    {
     "name": "stdout",
     "output_type": "stream",
     "text": [
      "1. Quels sont les défis spécifiques que le Conseil fédéral envisage dans la mise en œuvre de l'obligation de paiement en espèces de 15 000 francs ou plus pour des prestations imposables entre personnes assujetties, et comment prévoit-il de les surmonter ?\n",
      "2. Quels seront les impacts anticipés de l’imposition des plateformes en ligne et de l'introduction du décompte annuel sur les petites et moyennes entreprises ? \n",
      "3. Comment l'Administration fédérale des contributions AFC s'assurera-t-elle que les changements informatiques nécessaires à l'introduction du décompte annuel seront effectués sans problème et à temps pour la date d'entrée en vigueur prévue du 1er janvier 2025 ? \n",
      "\n",
      "10 questions critiques :\n",
      "1. Quels sont les principaux avantages que le Conseil fédéral espère obtenir avec cette révision partielle de l'OTVA ? \n",
      "2. Comment les simplifications concernant les décomptes au moyen des taux de la dette fiscale nette et des taux forfaitaires seront-elles mises en œuvre ?\n",
      "3. Quels sont les défis spécifiques que le Conseil fédéral envisage dans la mise en œuvre de l'obligation de paiement en espèces de 15 000 francs ou plus pour des prestations imposables entre personnes assujetties, et comment prévoit-il de les surmonter ?\n",
      "4. Comment la révision partielle de la LTVA et de l'OTVA affectera-t-elle les consommateurs ?\n",
      "5. Quels seront les impacts anticipés de l’imposition des plateformes en ligne et de l'introduction du décompte annuel sur les petites et moyennes entreprises ?\n",
      "6. Comment le Conseil fédéral assurera-t-il la transition en douceur vers l'extension des démarches devant être effectuées en ligne ?\n",
      "7. Quels sont les plans du Conseil fédéral pour lutter contre la fraude fiscale dans le cadre de cette révision ?\n",
      "8. Comment l'Administration fédérale des contributions AFC s'assurera-t-elle que les changements informatiques nécessaires à l'introduction du décompte annuel seront effectués sans problème et à temps pour la date d'entrée en vigueur prévue du 1er janvier 2025 ?\n",
      "9. Quel est le plan d'action du Conseil fédéral pour informer le public et les entreprises des changements apportés dans le cadre de cette révision ?\n",
      "10. Quelle est la stratégie du Conseil fédéral pour s'assurer que les changements proposés seront bénéfiques pour l'économie suisse dans son ensemble ?\n"
     ]
    }
   ],
   "source": [
    "# result_fragen_NZZ: from NZZ/Donald Duck and will collect 3 critical questions. \n",
    "prompt = PromptTemplate.from_template(\"\"\"\n",
    "You are a reporter (female) for the NZZ and will \n",
    "    collect 10 critical questions. \n",
    "    At the end we need the 3 most critical \n",
    "    questions.\n",
    "\n",
    "    You think like Donald Duck.\n",
    "\n",
    "    It is important that the questions \n",
    "    relate directly to the press release.\n",
    "    \n",
    "    This is important:\n",
    "    The questions are critical, but not insulting. \n",
    "    And refer to the press release, the facts and a keyword.\n",
    "\n",
    "    Rules:\n",
    "    Answer in the same language as in the press release.\n",
    "\n",
    "    Sources: \n",
    "    ===========\n",
    "    Facts {facts}\n",
    "    Keywords: {top3keywords}\n",
    "    Media Release: {medienmitteilung}\n",
    "    ==============\n",
    "    Your top 3 most critical questions:\n",
    "\"\"\")\n",
    "runnable = prompt | ChatOpenAI(model=model) | StrOutputParser()\n",
    "result_fragen_nzz = runnable.invoke({\"medienmitteilung\": text_input_medienmitteilung, \"top3keywords\": result_top3keywords, \"facts\": result_facts})\n",
    "print(result_fragen_nzz)"
   ]
  },
  {
   "cell_type": "code",
   "execution_count": 10,
   "metadata": {},
   "outputs": [
    {
     "name": "stdout",
     "output_type": "stream",
     "text": [
      "Le gouvernement suisse envisage de modifier certaines règles concernant la taxe sur la valeur ajoutée (TVA), qui est une taxe que tu paies lorsque tu achètes quelque chose. Ils veulent simplifier le système pour les petites et moyennes entreprises et rendre certaines choses plus précises. Ils veulent aussi que plus de choses soient faites en ligne. Par exemple, si quelqu'un paie plus de 15 000 francs en espèces pour quelque chose, ils devront le déclarer en ligne. Ces changements devraient commencer à partir du 1er janvier 2025. Les gens peuvent donner leur avis sur ces modifications jusqu'au 8 février 2024.\n"
     ]
    }
   ],
   "source": [
    "# result_zusammenfassung_kind: summary for a 10 year old child \n",
    "prompt = PromptTemplate.from_template(\"\"\"\n",
    "Create a summary of the following text \n",
    "    for a 10 year old child of a media release.\n",
    "\n",
    "    Important:\n",
    "    Answer in the same language as the media release.\n",
    "\n",
    "    Sources: \n",
    "    ===========\n",
    "    Facts: {facts}\n",
    "    Media release: {medienmitteilung}\n",
    "    ==============\n",
    "    Your child-friendly summary:\n",
    "\"\"\")\n",
    "runnable = prompt | ChatOpenAI(model=model) | StrOutputParser()\n",
    "result_zusammenfassung_kind =  runnable.invoke({\"medienmitteilung\": text_input_medienmitteilung, \"facts\": result_facts})\n",
    "print(result_zusammenfassung_kind)"
   ]
  },
  {
   "cell_type": "code",
   "execution_count": 11,
   "metadata": {},
   "outputs": [
    {
     "name": "stdout",
     "output_type": "stream",
     "text": [
      "\"Create a black and white comic book panel featuring a scene set in Switzerland, where the Swiss government is considering modifying some rules regarding Value Added Tax (VAT). The comic illustration should be reminiscent of European adventure comics of the mid-21th century, and it should depict the government's plan to simplify the system for small and medium businesses, make certain things more precise, and encourage more things to be done online. For instance, if someone pays more than 15,000 francs in cash for something, they will have to declare it online. These changes are expected to begin from January 1, 2025, and people can give their opinions on these modifications until February 8, 2024. The scene should be presented in an informative way. Include a dramatic sound effect text saying \"#ConseilFédéral #RévisionPartielle #AdministrationFédéraleDesContributions\".\"\n"
     ]
    }
   ],
   "source": [
    "# result_dalle3prompt: DALL-E prompt : black and white comic book panel in style of asterix & obelix in mid-21th \n",
    "# copy-paste the result_dalle3prompt into a good image generator like Midjourney or DallE-3 \n",
    "prompt = PromptTemplate.from_template(\"\"\"\n",
    "Create a prompt to generate \n",
    "    with DALL-E a matching image.\n",
    "\n",
    "    Important Roules:\n",
    "    =================\n",
    "    1) Your DALL-E Prompt must be in english.\n",
    "    2) It must include the following texts:\n",
    "        A)\"create a black and white comic book panel\"\n",
    "        B)\"comic illustration reminiscent of European adventure comics of the mid-21th century\"\n",
    "        C)\"in a informative way.\" \n",
    "        D) [SCENE]\n",
    "        E) The scene plays in switzerland.\n",
    "    3) \"Include a dramatic sound effect text saying &quot;{top3keywords}&quot;\n",
    "    =================\n",
    "\n",
    "    Contextinformation for the [SCENE]: {zusammenfassung_kind}\n",
    "    ==============\n",
    "    Generated the [SCENE] and following the rules 1-3!\n",
    "    ==============\n",
    "    Your DALL-E Prompt follows rules 1-3:\n",
    "\"\"\")\n",
    "runnable = prompt | ChatOpenAI(model=model) | StrOutputParser()\n",
    "result_dalle3prompt =  runnable.invoke({\"zusammenfassung_kind\": result_zusammenfassung_kind, \"top3keywords\": result_top3keywords, \"facts\": result_facts})\n",
    "print(result_dalle3prompt)"
   ]
  },
  {
   "cell_type": "code",
   "execution_count": 12,
   "metadata": {},
   "outputs": [
    {
     "data": {
      "text/plain": [
       "'https://oaidalleapiprodscus.blob.core.windows.net/private/org-RrVvFp3h2smAtr8Vjq0g3AKy/user-O767lIr6xCB4R6abFFZNETBT/img-LrPIum6BuVoIkdxGt0P7B8qo.png?st=2023-10-29T17%3A51%3A18Z&se=2023-10-29T19%3A51%3A18Z&sp=r&sv=2021-08-06&sr=b&rscd=inline&rsct=image/png&skoid=6aaadede-4fb3-4698-a8f6-684d7786b067&sktid=a48cca56-e6da-484e-a814-9c849652bcb3&skt=2023-10-28T23%3A32%3A15Z&ske=2023-10-29T23%3A32%3A15Z&sks=b&skv=2021-08-06&sig=9LmQY9cljVjBRBPrOPjE2g/sE%2BkN66tNtN6ZuH3SBJA%3D'"
      ]
     },
     "execution_count": 12,
     "metadata": {},
     "output_type": "execute_result"
    }
   ],
   "source": [
    "# link to a DELL-E 2 image (Midjourney or DallE-3 are much better!)\n",
    "from langchain.utilities.dalle_image_generator import DallEAPIWrapper\n",
    "from langchain.prompts import PromptTemplate\n",
    "from langchain.chains import LLMChain\n",
    "from langchain.llms import OpenAI\n",
    "\n",
    "llm = OpenAI(temperature=0.9)\n",
    "prompt = PromptTemplate(\n",
    "    input_variables=[\"image_desc\"],\n",
    "    template=\"{image_desc}\",\n",
    ")\n",
    "chain = LLMChain(llm=llm, prompt=prompt)\n",
    "image_url = DallEAPIWrapper().run(chain.run(result_dalle3prompt))\n",
    "image_url"
   ]
  }
 ],
 "metadata": {
  "kernelspec": {
   "display_name": "Python 3",
   "language": "python",
   "name": "python3"
  },
  "language_info": {
   "codemirror_mode": {
    "name": "ipython",
    "version": 3
   },
   "file_extension": ".py",
   "mimetype": "text/x-python",
   "name": "python",
   "nbconvert_exporter": "python",
   "pygments_lexer": "ipython3",
   "version": "3.10.8"
  }
 },
 "nbformat": 4,
 "nbformat_minor": 2
}
