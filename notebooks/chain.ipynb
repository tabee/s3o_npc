{
 "cells": [
  {
   "cell_type": "markdown",
   "metadata": {},
   "source": [
    "# setup"
   ]
  },
  {
   "cell_type": "code",
   "execution_count": 1,
   "metadata": {},
   "outputs": [
    {
     "name": "stdout",
     "output_type": "stream",
     "text": [
      "Requirement already satisfied: ipywidgets==7.7.1 in /usr/local/python/3.10.8/lib/python3.10/site-packages (from -r ./../requirements.txt (line 1)) (7.7.1)\n",
      "Requirement already satisfied: matplotlib==3.7.0 in /usr/local/python/3.10.8/lib/python3.10/site-packages (from -r ./../requirements.txt (line 2)) (3.7.0)\n",
      "Requirement already satisfied: numpy==1.24.2 in /usr/local/python/3.10.8/lib/python3.10/site-packages (from -r ./../requirements.txt (line 3)) (1.24.2)\n",
      "Requirement already satisfied: pandas==1.5.3 in /usr/local/python/3.10.8/lib/python3.10/site-packages (from -r ./../requirements.txt (line 4)) (1.5.3)\n",
      "Requirement already satisfied: torch==1.12.1 in /usr/local/python/3.10.8/lib/python3.10/site-packages (from -r ./../requirements.txt (line 5)) (1.12.1)\n",
      "Requirement already satisfied: torchvision==0.13.1 in /usr/local/python/3.10.8/lib/python3.10/site-packages (from -r ./../requirements.txt (line 6)) (0.13.1)\n",
      "Requirement already satisfied: tqdm==4.64.0 in /usr/local/python/3.10.8/lib/python3.10/site-packages (from -r ./../requirements.txt (line 7)) (4.64.0)\n",
      "Requirement already satisfied: streamlit in /usr/local/python/3.10.8/lib/python3.10/site-packages (from -r ./../requirements.txt (line 8)) (1.28.0)\n",
      "Requirement already satisfied: openai in /usr/local/python/3.10.8/lib/python3.10/site-packages (from -r ./../requirements.txt (line 9)) (0.28.1)\n",
      "Requirement already satisfied: langchain in /usr/local/python/3.10.8/lib/python3.10/site-packages (from -r ./../requirements.txt (line 10)) (0.0.325)\n",
      "Requirement already satisfied: faiss-cpu in /usr/local/python/3.10.8/lib/python3.10/site-packages (from -r ./../requirements.txt (line 11)) (1.7.4)\n",
      "Requirement already satisfied: tiktoken in /usr/local/python/3.10.8/lib/python3.10/site-packages (from -r ./../requirements.txt (line 12)) (0.5.1)\n",
      "Requirement already satisfied: python-dotenv in /usr/local/python/3.10.8/lib/python3.10/site-packages (from -r ./../requirements.txt (line 13)) (1.0.0)\n",
      "Requirement already satisfied: opencv-python in /usr/local/python/3.10.8/lib/python3.10/site-packages (from -r ./../requirements.txt (line 14)) (4.8.1.78)\n",
      "Requirement already satisfied: scikit-image in /usr/local/python/3.10.8/lib/python3.10/site-packages (from -r ./../requirements.txt (line 15)) (0.22.0)\n",
      "Requirement already satisfied: ipykernel>=4.5.1 in /home/codespace/.local/lib/python3.10/site-packages (from ipywidgets==7.7.1->-r ./../requirements.txt (line 1)) (6.25.2)\n",
      "Requirement already satisfied: ipython-genutils~=0.2.0 in /usr/local/python/3.10.8/lib/python3.10/site-packages (from ipywidgets==7.7.1->-r ./../requirements.txt (line 1)) (0.2.0)\n",
      "Requirement already satisfied: traitlets>=4.3.1 in /home/codespace/.local/lib/python3.10/site-packages (from ipywidgets==7.7.1->-r ./../requirements.txt (line 1)) (5.11.2)\n",
      "Requirement already satisfied: widgetsnbextension~=3.6.0 in /usr/local/python/3.10.8/lib/python3.10/site-packages (from ipywidgets==7.7.1->-r ./../requirements.txt (line 1)) (3.6.6)\n",
      "Requirement already satisfied: ipython>=4.0.0 in /home/codespace/.local/lib/python3.10/site-packages (from ipywidgets==7.7.1->-r ./../requirements.txt (line 1)) (8.16.1)\n",
      "Requirement already satisfied: jupyterlab-widgets>=1.0.0 in /usr/local/python/3.10.8/lib/python3.10/site-packages (from ipywidgets==7.7.1->-r ./../requirements.txt (line 1)) (3.0.9)\n",
      "Requirement already satisfied: contourpy>=1.0.1 in /home/codespace/.local/lib/python3.10/site-packages (from matplotlib==3.7.0->-r ./../requirements.txt (line 2)) (1.1.1)\n",
      "Requirement already satisfied: cycler>=0.10 in /home/codespace/.local/lib/python3.10/site-packages (from matplotlib==3.7.0->-r ./../requirements.txt (line 2)) (0.12.1)\n",
      "Requirement already satisfied: fonttools>=4.22.0 in /home/codespace/.local/lib/python3.10/site-packages (from matplotlib==3.7.0->-r ./../requirements.txt (line 2)) (4.43.1)\n",
      "Requirement already satisfied: kiwisolver>=1.0.1 in /home/codespace/.local/lib/python3.10/site-packages (from matplotlib==3.7.0->-r ./../requirements.txt (line 2)) (1.4.5)\n",
      "Requirement already satisfied: packaging>=20.0 in /home/codespace/.local/lib/python3.10/site-packages (from matplotlib==3.7.0->-r ./../requirements.txt (line 2)) (23.2)\n",
      "Requirement already satisfied: pillow>=6.2.0 in /usr/local/python/3.10.8/lib/python3.10/site-packages (from matplotlib==3.7.0->-r ./../requirements.txt (line 2)) (10.0.1)\n",
      "Requirement already satisfied: pyparsing>=2.3.1 in /home/codespace/.local/lib/python3.10/site-packages (from matplotlib==3.7.0->-r ./../requirements.txt (line 2)) (3.1.1)\n",
      "Requirement already satisfied: python-dateutil>=2.7 in /home/codespace/.local/lib/python3.10/site-packages (from matplotlib==3.7.0->-r ./../requirements.txt (line 2)) (2.8.2)\n",
      "Requirement already satisfied: pytz>=2020.1 in /home/codespace/.local/lib/python3.10/site-packages (from pandas==1.5.3->-r ./../requirements.txt (line 4)) (2023.3.post1)\n",
      "Requirement already satisfied: typing-extensions in /home/codespace/.local/lib/python3.10/site-packages (from torch==1.12.1->-r ./../requirements.txt (line 5)) (4.8.0)\n",
      "Requirement already satisfied: requests in /home/codespace/.local/lib/python3.10/site-packages (from torchvision==0.13.1->-r ./../requirements.txt (line 6)) (2.31.0)\n",
      "Requirement already satisfied: altair<6,>=4.0 in /usr/local/python/3.10.8/lib/python3.10/site-packages (from streamlit->-r ./../requirements.txt (line 8)) (5.1.2)\n",
      "Requirement already satisfied: blinker<2,>=1.0.0 in /usr/local/python/3.10.8/lib/python3.10/site-packages (from streamlit->-r ./../requirements.txt (line 8)) (1.6.3)\n",
      "Requirement already satisfied: cachetools<6,>=4.0 in /usr/local/python/3.10.8/lib/python3.10/site-packages (from streamlit->-r ./../requirements.txt (line 8)) (5.3.2)\n",
      "Requirement already satisfied: click<9,>=7.0 in /usr/local/python/3.10.8/lib/python3.10/site-packages (from streamlit->-r ./../requirements.txt (line 8)) (8.1.7)\n",
      "Requirement already satisfied: importlib-metadata<7,>=1.4 in /usr/local/python/3.10.8/lib/python3.10/site-packages (from streamlit->-r ./../requirements.txt (line 8)) (6.8.0)\n",
      "Requirement already satisfied: protobuf<5,>=3.20 in /usr/local/python/3.10.8/lib/python3.10/site-packages (from streamlit->-r ./../requirements.txt (line 8)) (4.24.4)\n",
      "Requirement already satisfied: pyarrow>=6.0 in /usr/local/python/3.10.8/lib/python3.10/site-packages (from streamlit->-r ./../requirements.txt (line 8)) (13.0.0)\n",
      "Requirement already satisfied: rich<14,>=10.14.0 in /usr/local/python/3.10.8/lib/python3.10/site-packages (from streamlit->-r ./../requirements.txt (line 8)) (13.6.0)\n",
      "Requirement already satisfied: tenacity<9,>=8.1.0 in /home/codespace/.local/lib/python3.10/site-packages (from streamlit->-r ./../requirements.txt (line 8)) (8.2.3)\n",
      "Requirement already satisfied: toml<2,>=0.10.1 in /usr/local/python/3.10.8/lib/python3.10/site-packages (from streamlit->-r ./../requirements.txt (line 8)) (0.10.2)\n",
      "Requirement already satisfied: tzlocal<6,>=1.1 in /usr/local/python/3.10.8/lib/python3.10/site-packages (from streamlit->-r ./../requirements.txt (line 8)) (5.2)\n",
      "Requirement already satisfied: validators<1,>=0.2 in /usr/local/python/3.10.8/lib/python3.10/site-packages (from streamlit->-r ./../requirements.txt (line 8)) (0.22.0)\n",
      "Requirement already satisfied: gitpython!=3.1.19,<4,>=3.0.7 in /home/codespace/.local/lib/python3.10/site-packages (from streamlit->-r ./../requirements.txt (line 8)) (3.1.38)\n",
      "Requirement already satisfied: pydeck<1,>=0.8.0b4 in /usr/local/python/3.10.8/lib/python3.10/site-packages (from streamlit->-r ./../requirements.txt (line 8)) (0.8.1b0)\n",
      "Requirement already satisfied: tornado<7,>=6.0.3 in /home/codespace/.local/lib/python3.10/site-packages (from streamlit->-r ./../requirements.txt (line 8)) (6.3.3)\n",
      "Requirement already satisfied: watchdog>=2.1.5 in /usr/local/python/3.10.8/lib/python3.10/site-packages (from streamlit->-r ./../requirements.txt (line 8)) (3.0.0)\n",
      "Requirement already satisfied: aiohttp in /usr/local/python/3.10.8/lib/python3.10/site-packages (from openai->-r ./../requirements.txt (line 9)) (3.8.6)\n",
      "Requirement already satisfied: PyYAML>=5.3 in /home/codespace/.local/lib/python3.10/site-packages (from langchain->-r ./../requirements.txt (line 10)) (6.0.1)\n",
      "Requirement already satisfied: SQLAlchemy<3,>=1.4 in /usr/local/python/3.10.8/lib/python3.10/site-packages (from langchain->-r ./../requirements.txt (line 10)) (2.0.22)\n",
      "Requirement already satisfied: anyio<4.0 in /usr/local/python/3.10.8/lib/python3.10/site-packages (from langchain->-r ./../requirements.txt (line 10)) (3.7.1)\n",
      "Requirement already satisfied: async-timeout<5.0.0,>=4.0.0 in /usr/local/python/3.10.8/lib/python3.10/site-packages (from langchain->-r ./../requirements.txt (line 10)) (4.0.3)\n",
      "Requirement already satisfied: dataclasses-json<0.7,>=0.5.7 in /usr/local/python/3.10.8/lib/python3.10/site-packages (from langchain->-r ./../requirements.txt (line 10)) (0.6.1)\n",
      "Requirement already satisfied: jsonpatch<2.0,>=1.33 in /usr/local/python/3.10.8/lib/python3.10/site-packages (from langchain->-r ./../requirements.txt (line 10)) (1.33)\n",
      "Requirement already satisfied: langsmith<0.1.0,>=0.0.52 in /usr/local/python/3.10.8/lib/python3.10/site-packages (from langchain->-r ./../requirements.txt (line 10)) (0.0.53)\n",
      "Requirement already satisfied: pydantic<3,>=1 in /usr/local/python/3.10.8/lib/python3.10/site-packages (from langchain->-r ./../requirements.txt (line 10)) (2.4.2)\n",
      "Requirement already satisfied: regex>=2022.1.18 in /usr/local/python/3.10.8/lib/python3.10/site-packages (from tiktoken->-r ./../requirements.txt (line 12)) (2023.10.3)\n",
      "Requirement already satisfied: scipy>=1.8 in /home/codespace/.local/lib/python3.10/site-packages (from scikit-image->-r ./../requirements.txt (line 15)) (1.11.3)\n",
      "Requirement already satisfied: networkx>=2.8 in /home/codespace/.local/lib/python3.10/site-packages (from scikit-image->-r ./../requirements.txt (line 15)) (3.1)\n",
      "Requirement already satisfied: imageio>=2.27 in /usr/local/python/3.10.8/lib/python3.10/site-packages (from scikit-image->-r ./../requirements.txt (line 15)) (2.31.6)\n",
      "Requirement already satisfied: tifffile>=2022.8.12 in /usr/local/python/3.10.8/lib/python3.10/site-packages (from scikit-image->-r ./../requirements.txt (line 15)) (2023.9.26)\n",
      "Requirement already satisfied: lazy_loader>=0.3 in /usr/local/python/3.10.8/lib/python3.10/site-packages (from scikit-image->-r ./../requirements.txt (line 15)) (0.3)\n",
      "Requirement already satisfied: attrs>=17.3.0 in /home/codespace/.local/lib/python3.10/site-packages (from aiohttp->openai->-r ./../requirements.txt (line 9)) (23.1.0)\n",
      "Requirement already satisfied: charset-normalizer<4.0,>=2.0 in /home/codespace/.local/lib/python3.10/site-packages (from aiohttp->openai->-r ./../requirements.txt (line 9)) (3.3.0)\n",
      "Requirement already satisfied: multidict<7.0,>=4.5 in /usr/local/python/3.10.8/lib/python3.10/site-packages (from aiohttp->openai->-r ./../requirements.txt (line 9)) (6.0.4)\n",
      "Requirement already satisfied: yarl<2.0,>=1.0 in /usr/local/python/3.10.8/lib/python3.10/site-packages (from aiohttp->openai->-r ./../requirements.txt (line 9)) (1.9.2)\n",
      "Requirement already satisfied: frozenlist>=1.1.1 in /usr/local/python/3.10.8/lib/python3.10/site-packages (from aiohttp->openai->-r ./../requirements.txt (line 9)) (1.4.0)\n",
      "Requirement already satisfied: aiosignal>=1.1.2 in /usr/local/python/3.10.8/lib/python3.10/site-packages (from aiohttp->openai->-r ./../requirements.txt (line 9)) (1.3.1)\n",
      "Requirement already satisfied: jinja2 in /home/codespace/.local/lib/python3.10/site-packages (from altair<6,>=4.0->streamlit->-r ./../requirements.txt (line 8)) (3.1.2)\n",
      "Requirement already satisfied: jsonschema>=3.0 in /home/codespace/.local/lib/python3.10/site-packages (from altair<6,>=4.0->streamlit->-r ./../requirements.txt (line 8)) (4.19.1)\n",
      "Requirement already satisfied: toolz in /usr/local/python/3.10.8/lib/python3.10/site-packages (from altair<6,>=4.0->streamlit->-r ./../requirements.txt (line 8)) (0.12.0)\n",
      "Requirement already satisfied: idna>=2.8 in /home/codespace/.local/lib/python3.10/site-packages (from anyio<4.0->langchain->-r ./../requirements.txt (line 10)) (3.4)\n",
      "Requirement already satisfied: sniffio>=1.1 in /home/codespace/.local/lib/python3.10/site-packages (from anyio<4.0->langchain->-r ./../requirements.txt (line 10)) (1.3.0)\n",
      "Requirement already satisfied: exceptiongroup in /home/codespace/.local/lib/python3.10/site-packages (from anyio<4.0->langchain->-r ./../requirements.txt (line 10)) (1.1.3)\n",
      "Requirement already satisfied: marshmallow<4.0.0,>=3.18.0 in /usr/local/python/3.10.8/lib/python3.10/site-packages (from dataclasses-json<0.7,>=0.5.7->langchain->-r ./../requirements.txt (line 10)) (3.20.1)\n",
      "Requirement already satisfied: typing-inspect<1,>=0.4.0 in /usr/local/python/3.10.8/lib/python3.10/site-packages (from dataclasses-json<0.7,>=0.5.7->langchain->-r ./../requirements.txt (line 10)) (0.9.0)\n",
      "Requirement already satisfied: gitdb<5,>=4.0.1 in /home/codespace/.local/lib/python3.10/site-packages (from gitpython!=3.1.19,<4,>=3.0.7->streamlit->-r ./../requirements.txt (line 8)) (4.0.10)\n",
      "Requirement already satisfied: zipp>=0.5 in /usr/local/python/3.10.8/lib/python3.10/site-packages (from importlib-metadata<7,>=1.4->streamlit->-r ./../requirements.txt (line 8)) (3.17.0)\n",
      "Requirement already satisfied: comm>=0.1.1 in /home/codespace/.local/lib/python3.10/site-packages (from ipykernel>=4.5.1->ipywidgets==7.7.1->-r ./../requirements.txt (line 1)) (0.1.4)\n",
      "Requirement already satisfied: debugpy>=1.6.5 in /home/codespace/.local/lib/python3.10/site-packages (from ipykernel>=4.5.1->ipywidgets==7.7.1->-r ./../requirements.txt (line 1)) (1.8.0)\n",
      "Requirement already satisfied: jupyter-client>=6.1.12 in /home/codespace/.local/lib/python3.10/site-packages (from ipykernel>=4.5.1->ipywidgets==7.7.1->-r ./../requirements.txt (line 1)) (8.4.0)\n",
      "Requirement already satisfied: jupyter-core!=5.0.*,>=4.12 in /home/codespace/.local/lib/python3.10/site-packages (from ipykernel>=4.5.1->ipywidgets==7.7.1->-r ./../requirements.txt (line 1)) (5.4.0)\n",
      "Requirement already satisfied: matplotlib-inline>=0.1 in /home/codespace/.local/lib/python3.10/site-packages (from ipykernel>=4.5.1->ipywidgets==7.7.1->-r ./../requirements.txt (line 1)) (0.1.6)\n",
      "Requirement already satisfied: nest-asyncio in /home/codespace/.local/lib/python3.10/site-packages (from ipykernel>=4.5.1->ipywidgets==7.7.1->-r ./../requirements.txt (line 1)) (1.5.8)\n",
      "Requirement already satisfied: psutil in /home/codespace/.local/lib/python3.10/site-packages (from ipykernel>=4.5.1->ipywidgets==7.7.1->-r ./../requirements.txt (line 1)) (5.9.6)\n",
      "Requirement already satisfied: pyzmq>=20 in /home/codespace/.local/lib/python3.10/site-packages (from ipykernel>=4.5.1->ipywidgets==7.7.1->-r ./../requirements.txt (line 1)) (25.1.1)\n",
      "Requirement already satisfied: backcall in /home/codespace/.local/lib/python3.10/site-packages (from ipython>=4.0.0->ipywidgets==7.7.1->-r ./../requirements.txt (line 1)) (0.2.0)\n",
      "Requirement already satisfied: decorator in /home/codespace/.local/lib/python3.10/site-packages (from ipython>=4.0.0->ipywidgets==7.7.1->-r ./../requirements.txt (line 1)) (5.1.1)\n",
      "Requirement already satisfied: jedi>=0.16 in /home/codespace/.local/lib/python3.10/site-packages (from ipython>=4.0.0->ipywidgets==7.7.1->-r ./../requirements.txt (line 1)) (0.19.1)\n",
      "Requirement already satisfied: pickleshare in /home/codespace/.local/lib/python3.10/site-packages (from ipython>=4.0.0->ipywidgets==7.7.1->-r ./../requirements.txt (line 1)) (0.7.5)\n",
      "Requirement already satisfied: prompt-toolkit!=3.0.37,<3.1.0,>=3.0.30 in /home/codespace/.local/lib/python3.10/site-packages (from ipython>=4.0.0->ipywidgets==7.7.1->-r ./../requirements.txt (line 1)) (3.0.39)\n",
      "Requirement already satisfied: pygments>=2.4.0 in /home/codespace/.local/lib/python3.10/site-packages (from ipython>=4.0.0->ipywidgets==7.7.1->-r ./../requirements.txt (line 1)) (2.16.1)\n",
      "Requirement already satisfied: stack-data in /home/codespace/.local/lib/python3.10/site-packages (from ipython>=4.0.0->ipywidgets==7.7.1->-r ./../requirements.txt (line 1)) (0.6.3)\n",
      "Requirement already satisfied: pexpect>4.3 in /home/codespace/.local/lib/python3.10/site-packages (from ipython>=4.0.0->ipywidgets==7.7.1->-r ./../requirements.txt (line 1)) (4.8.0)\n",
      "Requirement already satisfied: jsonpointer>=1.9 in /home/codespace/.local/lib/python3.10/site-packages (from jsonpatch<2.0,>=1.33->langchain->-r ./../requirements.txt (line 10)) (2.4)\n",
      "Requirement already satisfied: annotated-types>=0.4.0 in /usr/local/python/3.10.8/lib/python3.10/site-packages (from pydantic<3,>=1->langchain->-r ./../requirements.txt (line 10)) (0.6.0)\n",
      "Requirement already satisfied: pydantic-core==2.10.1 in /usr/local/python/3.10.8/lib/python3.10/site-packages (from pydantic<3,>=1->langchain->-r ./../requirements.txt (line 10)) (2.10.1)\n",
      "Requirement already satisfied: six>=1.5 in /home/codespace/.local/lib/python3.10/site-packages (from python-dateutil>=2.7->matplotlib==3.7.0->-r ./../requirements.txt (line 2)) (1.16.0)\n",
      "Requirement already satisfied: urllib3<3,>=1.21.1 in /home/codespace/.local/lib/python3.10/site-packages (from requests->torchvision==0.13.1->-r ./../requirements.txt (line 6)) (2.0.7)\n",
      "Requirement already satisfied: certifi>=2017.4.17 in /home/codespace/.local/lib/python3.10/site-packages (from requests->torchvision==0.13.1->-r ./../requirements.txt (line 6)) (2023.7.22)\n",
      "Requirement already satisfied: markdown-it-py>=2.2.0 in /usr/local/python/3.10.8/lib/python3.10/site-packages (from rich<14,>=10.14.0->streamlit->-r ./../requirements.txt (line 8)) (3.0.0)\n",
      "Requirement already satisfied: greenlet!=0.4.17 in /usr/local/python/3.10.8/lib/python3.10/site-packages (from SQLAlchemy<3,>=1.4->langchain->-r ./../requirements.txt (line 10)) (3.0.1)\n",
      "Requirement already satisfied: notebook>=4.4.1 in /usr/local/python/3.10.8/lib/python3.10/site-packages (from widgetsnbextension~=3.6.0->ipywidgets==7.7.1->-r ./../requirements.txt (line 1)) (7.0.6)\n",
      "Requirement already satisfied: smmap<6,>=3.0.1 in /home/codespace/.local/lib/python3.10/site-packages (from gitdb<5,>=4.0.1->gitpython!=3.1.19,<4,>=3.0.7->streamlit->-r ./../requirements.txt (line 8)) (5.0.1)\n",
      "Requirement already satisfied: parso<0.9.0,>=0.8.3 in /home/codespace/.local/lib/python3.10/site-packages (from jedi>=0.16->ipython>=4.0.0->ipywidgets==7.7.1->-r ./../requirements.txt (line 1)) (0.8.3)\n",
      "Requirement already satisfied: MarkupSafe>=2.0 in /home/codespace/.local/lib/python3.10/site-packages (from jinja2->altair<6,>=4.0->streamlit->-r ./../requirements.txt (line 8)) (2.1.3)\n",
      "Requirement already satisfied: jsonschema-specifications>=2023.03.6 in /home/codespace/.local/lib/python3.10/site-packages (from jsonschema>=3.0->altair<6,>=4.0->streamlit->-r ./../requirements.txt (line 8)) (2023.7.1)\n",
      "Requirement already satisfied: referencing>=0.28.4 in /home/codespace/.local/lib/python3.10/site-packages (from jsonschema>=3.0->altair<6,>=4.0->streamlit->-r ./../requirements.txt (line 8)) (0.30.2)\n",
      "Requirement already satisfied: rpds-py>=0.7.1 in /home/codespace/.local/lib/python3.10/site-packages (from jsonschema>=3.0->altair<6,>=4.0->streamlit->-r ./../requirements.txt (line 8)) (0.10.6)\n",
      "Requirement already satisfied: platformdirs>=2.5 in /home/codespace/.local/lib/python3.10/site-packages (from jupyter-core!=5.0.*,>=4.12->ipykernel>=4.5.1->ipywidgets==7.7.1->-r ./../requirements.txt (line 1)) (3.11.0)\n",
      "Requirement already satisfied: mdurl~=0.1 in /usr/local/python/3.10.8/lib/python3.10/site-packages (from markdown-it-py>=2.2.0->rich<14,>=10.14.0->streamlit->-r ./../requirements.txt (line 8)) (0.1.2)\n",
      "Requirement already satisfied: jupyter-server<3,>=2.4.0 in /home/codespace/.local/lib/python3.10/site-packages (from notebook>=4.4.1->widgetsnbextension~=3.6.0->ipywidgets==7.7.1->-r ./../requirements.txt (line 1)) (2.8.0)\n",
      "Requirement already satisfied: jupyterlab-server<3,>=2.22.1 in /home/codespace/.local/lib/python3.10/site-packages (from notebook>=4.4.1->widgetsnbextension~=3.6.0->ipywidgets==7.7.1->-r ./../requirements.txt (line 1)) (2.25.0)\n",
      "Requirement already satisfied: jupyterlab<5,>=4.0.2 in /home/codespace/.local/lib/python3.10/site-packages (from notebook>=4.4.1->widgetsnbextension~=3.6.0->ipywidgets==7.7.1->-r ./../requirements.txt (line 1)) (4.0.7)\n",
      "Requirement already satisfied: notebook-shim<0.3,>=0.2 in /home/codespace/.local/lib/python3.10/site-packages (from notebook>=4.4.1->widgetsnbextension~=3.6.0->ipywidgets==7.7.1->-r ./../requirements.txt (line 1)) (0.2.3)\n",
      "Requirement already satisfied: ptyprocess>=0.5 in /home/codespace/.local/lib/python3.10/site-packages (from pexpect>4.3->ipython>=4.0.0->ipywidgets==7.7.1->-r ./../requirements.txt (line 1)) (0.7.0)\n",
      "Requirement already satisfied: wcwidth in /home/codespace/.local/lib/python3.10/site-packages (from prompt-toolkit!=3.0.37,<3.1.0,>=3.0.30->ipython>=4.0.0->ipywidgets==7.7.1->-r ./../requirements.txt (line 1)) (0.2.8)\n",
      "Requirement already satisfied: mypy-extensions>=0.3.0 in /usr/local/python/3.10.8/lib/python3.10/site-packages (from typing-inspect<1,>=0.4.0->dataclasses-json<0.7,>=0.5.7->langchain->-r ./../requirements.txt (line 10)) (1.0.0)\n",
      "Requirement already satisfied: executing>=1.2.0 in /home/codespace/.local/lib/python3.10/site-packages (from stack-data->ipython>=4.0.0->ipywidgets==7.7.1->-r ./../requirements.txt (line 1)) (2.0.0)\n",
      "Requirement already satisfied: asttokens>=2.1.0 in /home/codespace/.local/lib/python3.10/site-packages (from stack-data->ipython>=4.0.0->ipywidgets==7.7.1->-r ./../requirements.txt (line 1)) (2.4.0)\n",
      "Requirement already satisfied: pure-eval in /home/codespace/.local/lib/python3.10/site-packages (from stack-data->ipython>=4.0.0->ipywidgets==7.7.1->-r ./../requirements.txt (line 1)) (0.2.2)\n",
      "Requirement already satisfied: argon2-cffi in /home/codespace/.local/lib/python3.10/site-packages (from jupyter-server<3,>=2.4.0->notebook>=4.4.1->widgetsnbextension~=3.6.0->ipywidgets==7.7.1->-r ./../requirements.txt (line 1)) (23.1.0)\n",
      "Requirement already satisfied: jupyter-events>=0.6.0 in /home/codespace/.local/lib/python3.10/site-packages (from jupyter-server<3,>=2.4.0->notebook>=4.4.1->widgetsnbextension~=3.6.0->ipywidgets==7.7.1->-r ./../requirements.txt (line 1)) (0.8.0)\n",
      "Requirement already satisfied: jupyter-server-terminals in /home/codespace/.local/lib/python3.10/site-packages (from jupyter-server<3,>=2.4.0->notebook>=4.4.1->widgetsnbextension~=3.6.0->ipywidgets==7.7.1->-r ./../requirements.txt (line 1)) (0.4.4)\n",
      "Requirement already satisfied: nbconvert>=6.4.4 in /home/codespace/.local/lib/python3.10/site-packages (from jupyter-server<3,>=2.4.0->notebook>=4.4.1->widgetsnbextension~=3.6.0->ipywidgets==7.7.1->-r ./../requirements.txt (line 1)) (7.9.2)\n",
      "Requirement already satisfied: nbformat>=5.3.0 in /home/codespace/.local/lib/python3.10/site-packages (from jupyter-server<3,>=2.4.0->notebook>=4.4.1->widgetsnbextension~=3.6.0->ipywidgets==7.7.1->-r ./../requirements.txt (line 1)) (5.9.2)\n",
      "Requirement already satisfied: overrides in /home/codespace/.local/lib/python3.10/site-packages (from jupyter-server<3,>=2.4.0->notebook>=4.4.1->widgetsnbextension~=3.6.0->ipywidgets==7.7.1->-r ./../requirements.txt (line 1)) (7.4.0)\n",
      "Requirement already satisfied: prometheus-client in /home/codespace/.local/lib/python3.10/site-packages (from jupyter-server<3,>=2.4.0->notebook>=4.4.1->widgetsnbextension~=3.6.0->ipywidgets==7.7.1->-r ./../requirements.txt (line 1)) (0.17.1)\n",
      "Requirement already satisfied: send2trash>=1.8.2 in /home/codespace/.local/lib/python3.10/site-packages (from jupyter-server<3,>=2.4.0->notebook>=4.4.1->widgetsnbextension~=3.6.0->ipywidgets==7.7.1->-r ./../requirements.txt (line 1)) (1.8.2)\n",
      "Requirement already satisfied: terminado>=0.8.3 in /home/codespace/.local/lib/python3.10/site-packages (from jupyter-server<3,>=2.4.0->notebook>=4.4.1->widgetsnbextension~=3.6.0->ipywidgets==7.7.1->-r ./../requirements.txt (line 1)) (0.17.1)\n",
      "Requirement already satisfied: websocket-client in /home/codespace/.local/lib/python3.10/site-packages (from jupyter-server<3,>=2.4.0->notebook>=4.4.1->widgetsnbextension~=3.6.0->ipywidgets==7.7.1->-r ./../requirements.txt (line 1)) (1.6.4)\n",
      "Requirement already satisfied: async-lru>=1.0.0 in /home/codespace/.local/lib/python3.10/site-packages (from jupyterlab<5,>=4.0.2->notebook>=4.4.1->widgetsnbextension~=3.6.0->ipywidgets==7.7.1->-r ./../requirements.txt (line 1)) (2.0.4)\n",
      "Requirement already satisfied: jupyter-lsp>=2.0.0 in /home/codespace/.local/lib/python3.10/site-packages (from jupyterlab<5,>=4.0.2->notebook>=4.4.1->widgetsnbextension~=3.6.0->ipywidgets==7.7.1->-r ./../requirements.txt (line 1)) (2.2.0)\n",
      "Requirement already satisfied: tomli in /home/codespace/.local/lib/python3.10/site-packages (from jupyterlab<5,>=4.0.2->notebook>=4.4.1->widgetsnbextension~=3.6.0->ipywidgets==7.7.1->-r ./../requirements.txt (line 1)) (2.0.1)\n",
      "Requirement already satisfied: babel>=2.10 in /home/codespace/.local/lib/python3.10/site-packages (from jupyterlab-server<3,>=2.22.1->notebook>=4.4.1->widgetsnbextension~=3.6.0->ipywidgets==7.7.1->-r ./../requirements.txt (line 1)) (2.13.0)\n",
      "Requirement already satisfied: json5>=0.9.0 in /home/codespace/.local/lib/python3.10/site-packages (from jupyterlab-server<3,>=2.22.1->notebook>=4.4.1->widgetsnbextension~=3.6.0->ipywidgets==7.7.1->-r ./../requirements.txt (line 1)) (0.9.14)\n",
      "Requirement already satisfied: python-json-logger>=2.0.4 in /home/codespace/.local/lib/python3.10/site-packages (from jupyter-events>=0.6.0->jupyter-server<3,>=2.4.0->notebook>=4.4.1->widgetsnbextension~=3.6.0->ipywidgets==7.7.1->-r ./../requirements.txt (line 1)) (2.0.7)\n",
      "Requirement already satisfied: rfc3339-validator in /home/codespace/.local/lib/python3.10/site-packages (from jupyter-events>=0.6.0->jupyter-server<3,>=2.4.0->notebook>=4.4.1->widgetsnbextension~=3.6.0->ipywidgets==7.7.1->-r ./../requirements.txt (line 1)) (0.1.4)\n",
      "Requirement already satisfied: rfc3986-validator>=0.1.1 in /home/codespace/.local/lib/python3.10/site-packages (from jupyter-events>=0.6.0->jupyter-server<3,>=2.4.0->notebook>=4.4.1->widgetsnbextension~=3.6.0->ipywidgets==7.7.1->-r ./../requirements.txt (line 1)) (0.1.1)\n",
      "Requirement already satisfied: beautifulsoup4 in /home/codespace/.local/lib/python3.10/site-packages (from nbconvert>=6.4.4->jupyter-server<3,>=2.4.0->notebook>=4.4.1->widgetsnbextension~=3.6.0->ipywidgets==7.7.1->-r ./../requirements.txt (line 1)) (4.12.2)\n",
      "Requirement already satisfied: bleach!=5.0.0 in /home/codespace/.local/lib/python3.10/site-packages (from nbconvert>=6.4.4->jupyter-server<3,>=2.4.0->notebook>=4.4.1->widgetsnbextension~=3.6.0->ipywidgets==7.7.1->-r ./../requirements.txt (line 1)) (6.1.0)\n",
      "Requirement already satisfied: defusedxml in /home/codespace/.local/lib/python3.10/site-packages (from nbconvert>=6.4.4->jupyter-server<3,>=2.4.0->notebook>=4.4.1->widgetsnbextension~=3.6.0->ipywidgets==7.7.1->-r ./../requirements.txt (line 1)) (0.7.1)\n",
      "Requirement already satisfied: jupyterlab-pygments in /home/codespace/.local/lib/python3.10/site-packages (from nbconvert>=6.4.4->jupyter-server<3,>=2.4.0->notebook>=4.4.1->widgetsnbextension~=3.6.0->ipywidgets==7.7.1->-r ./../requirements.txt (line 1)) (0.2.2)\n",
      "Requirement already satisfied: mistune<4,>=2.0.3 in /home/codespace/.local/lib/python3.10/site-packages (from nbconvert>=6.4.4->jupyter-server<3,>=2.4.0->notebook>=4.4.1->widgetsnbextension~=3.6.0->ipywidgets==7.7.1->-r ./../requirements.txt (line 1)) (3.0.2)\n",
      "Requirement already satisfied: nbclient>=0.5.0 in /home/codespace/.local/lib/python3.10/site-packages (from nbconvert>=6.4.4->jupyter-server<3,>=2.4.0->notebook>=4.4.1->widgetsnbextension~=3.6.0->ipywidgets==7.7.1->-r ./../requirements.txt (line 1)) (0.8.0)\n",
      "Requirement already satisfied: pandocfilters>=1.4.1 in /home/codespace/.local/lib/python3.10/site-packages (from nbconvert>=6.4.4->jupyter-server<3,>=2.4.0->notebook>=4.4.1->widgetsnbextension~=3.6.0->ipywidgets==7.7.1->-r ./../requirements.txt (line 1)) (1.5.0)\n",
      "Requirement already satisfied: tinycss2 in /home/codespace/.local/lib/python3.10/site-packages (from nbconvert>=6.4.4->jupyter-server<3,>=2.4.0->notebook>=4.4.1->widgetsnbextension~=3.6.0->ipywidgets==7.7.1->-r ./../requirements.txt (line 1)) (1.2.1)\n",
      "Requirement already satisfied: fastjsonschema in /home/codespace/.local/lib/python3.10/site-packages (from nbformat>=5.3.0->jupyter-server<3,>=2.4.0->notebook>=4.4.1->widgetsnbextension~=3.6.0->ipywidgets==7.7.1->-r ./../requirements.txt (line 1)) (2.18.1)\n",
      "Requirement already satisfied: argon2-cffi-bindings in /home/codespace/.local/lib/python3.10/site-packages (from argon2-cffi->jupyter-server<3,>=2.4.0->notebook>=4.4.1->widgetsnbextension~=3.6.0->ipywidgets==7.7.1->-r ./../requirements.txt (line 1)) (21.2.0)\n",
      "Requirement already satisfied: webencodings in /home/codespace/.local/lib/python3.10/site-packages (from bleach!=5.0.0->nbconvert>=6.4.4->jupyter-server<3,>=2.4.0->notebook>=4.4.1->widgetsnbextension~=3.6.0->ipywidgets==7.7.1->-r ./../requirements.txt (line 1)) (0.5.1)\n",
      "Requirement already satisfied: fqdn in /home/codespace/.local/lib/python3.10/site-packages (from jsonschema[format-nongpl]>=4.18.0->jupyter-events>=0.6.0->jupyter-server<3,>=2.4.0->notebook>=4.4.1->widgetsnbextension~=3.6.0->ipywidgets==7.7.1->-r ./../requirements.txt (line 1)) (1.5.1)\n",
      "Requirement already satisfied: isoduration in /home/codespace/.local/lib/python3.10/site-packages (from jsonschema[format-nongpl]>=4.18.0->jupyter-events>=0.6.0->jupyter-server<3,>=2.4.0->notebook>=4.4.1->widgetsnbextension~=3.6.0->ipywidgets==7.7.1->-r ./../requirements.txt (line 1)) (20.11.0)\n",
      "Requirement already satisfied: uri-template in /home/codespace/.local/lib/python3.10/site-packages (from jsonschema[format-nongpl]>=4.18.0->jupyter-events>=0.6.0->jupyter-server<3,>=2.4.0->notebook>=4.4.1->widgetsnbextension~=3.6.0->ipywidgets==7.7.1->-r ./../requirements.txt (line 1)) (1.3.0)\n",
      "Requirement already satisfied: webcolors>=1.11 in /home/codespace/.local/lib/python3.10/site-packages (from jsonschema[format-nongpl]>=4.18.0->jupyter-events>=0.6.0->jupyter-server<3,>=2.4.0->notebook>=4.4.1->widgetsnbextension~=3.6.0->ipywidgets==7.7.1->-r ./../requirements.txt (line 1)) (1.13)\n",
      "Requirement already satisfied: cffi>=1.0.1 in /home/codespace/.local/lib/python3.10/site-packages (from argon2-cffi-bindings->argon2-cffi->jupyter-server<3,>=2.4.0->notebook>=4.4.1->widgetsnbextension~=3.6.0->ipywidgets==7.7.1->-r ./../requirements.txt (line 1)) (1.16.0)\n",
      "Requirement already satisfied: soupsieve>1.2 in /home/codespace/.local/lib/python3.10/site-packages (from beautifulsoup4->nbconvert>=6.4.4->jupyter-server<3,>=2.4.0->notebook>=4.4.1->widgetsnbextension~=3.6.0->ipywidgets==7.7.1->-r ./../requirements.txt (line 1)) (2.5)\n",
      "Requirement already satisfied: pycparser in /home/codespace/.local/lib/python3.10/site-packages (from cffi>=1.0.1->argon2-cffi-bindings->argon2-cffi->jupyter-server<3,>=2.4.0->notebook>=4.4.1->widgetsnbextension~=3.6.0->ipywidgets==7.7.1->-r ./../requirements.txt (line 1)) (2.21)\n",
      "Requirement already satisfied: arrow>=0.15.0 in /home/codespace/.local/lib/python3.10/site-packages (from isoduration->jsonschema[format-nongpl]>=4.18.0->jupyter-events>=0.6.0->jupyter-server<3,>=2.4.0->notebook>=4.4.1->widgetsnbextension~=3.6.0->ipywidgets==7.7.1->-r ./../requirements.txt (line 1)) (1.3.0)\n",
      "Requirement already satisfied: types-python-dateutil>=2.8.10 in /home/codespace/.local/lib/python3.10/site-packages (from arrow>=0.15.0->isoduration->jsonschema[format-nongpl]>=4.18.0->jupyter-events>=0.6.0->jupyter-server<3,>=2.4.0->notebook>=4.4.1->widgetsnbextension~=3.6.0->ipywidgets==7.7.1->-r ./../requirements.txt (line 1)) (2.8.19.14)\n",
      "\n",
      "\u001b[1m[\u001b[0m\u001b[34;49mnotice\u001b[0m\u001b[1;39;49m]\u001b[0m\u001b[39;49m A new release of pip is available: \u001b[0m\u001b[31;49m23.3\u001b[0m\u001b[39;49m -> \u001b[0m\u001b[32;49m23.3.1\u001b[0m\n",
      "\u001b[1m[\u001b[0m\u001b[34;49mnotice\u001b[0m\u001b[1;39;49m]\u001b[0m\u001b[39;49m To update, run: \u001b[0m\u001b[32;49mpip install --upgrade pip\u001b[0m\n",
      "Note: you may need to restart the kernel to use updated packages.\n"
     ]
    }
   ],
   "source": [
    "#setup requirements\n",
    "%pip install -r ./../requirements.txt"
   ]
  },
  {
   "cell_type": "code",
   "execution_count": 2,
   "metadata": {},
   "outputs": [],
   "source": [
    "# load openai_api_key from .env file\n",
    "from dotenv import load_dotenv\n",
    "import os\n",
    "\n",
    "load_dotenv()\n",
    "openai_api_key = os.environ.get('OPENAI_API_KEY')\n",
    "\n",
    "model=\"gpt-4\"\n"
   ]
  },
  {
   "cell_type": "code",
   "execution_count": 3,
   "metadata": {},
   "outputs": [],
   "source": [
    "# import of langchain\n",
    "from langchain.prompts import PromptTemplate\n",
    "from langchain.chat_models import ChatOpenAI\n",
    "from langchain.schema import StrOutputParser"
   ]
  },
  {
   "cell_type": "markdown",
   "metadata": {},
   "source": [
    "# copy-paste a media release as 'text_input_medienmitteilung'"
   ]
  },
  {
   "cell_type": "code",
   "execution_count": 4,
   "metadata": {},
   "outputs": [],
   "source": [
    "text_input_medienmitteilung = \"\"\"\n",
    "\n",
    "    # Medienmitteilung\n",
    "\n",
    "    ## Der Bundesrat verurteilt die Terroranschläge der Hamas gegen Israel und stärkt seine Handlungsfähigkeit\n",
    "    \n",
    "    Bern, 11.10.2023 - Der Bundesrat hat sich an seiner Sitzung vom 11. Oktober 2023 mit den jüngsten schockierenden Angriffen befasst, die von der Hamas aus dem Gazastreifen gegen Zivilistinnen und Zivilisten in Israel verübt wurden. Er verurteilt diese terroristischen Anschläge auf das Schärfste und fordert die sofortige Freilassung der von der Hamas festgehaltenen Geiseln. Angesichts dieser Ereignisse muss die Schweiz wirksam und koordiniert handeln können. Der Bundesrat hat deshalb entschieden, die vom Eidgenössischen Departement für auswärtige Angelegenheiten (EDA) eingesetzte Taskforce zu einer Taskforce des Bundesrates zu erweitern. Der Bundesrat ist der Ansicht, dass die Hamas als terroristische Organisation eingestuft werden sollte.\n",
    "\n",
    "    Der Bundesrat verurteilt die Terrorangriffe, die von der Hamas aus dem Gazastreifen gegen Zivilistinnen und Zivilisten in Israel verübt wurden, auf das Schärfste und erkennt den legitimen Willen Israels zur nationalen Verteidigung und Sicherheit an. Er ruft zur sofortigen Freilassung der von der Hamas als Geiseln genommenen Personen auf. Der Bundesrat fordert ein sofortiges Ende der Gewalt und erinnert daran, dass die Zivilbevölkerung jederzeit zu schützen und das humanitäre Völkerrecht einzuhalten ist. Er drückt seine Solidarität mit der israelischen Bevölkerung aus und bekundet den Familien der Opfer sein tief empfundenes Mitgefühl.\n",
    "\n",
    "    Um wirksam und koordiniert handeln zu können, hat der Bundesrat entschieden, die vom Eidgenössischen Departement für auswärtige Angelegenheiten (EDA) eingesetzte Taskforce Naher Osten zu einer Taskforce des Bundesrates zu erweitern. Die vom EDA geleitete TFNO wird durch Vertreterinnen und Vertreter des Präsidialdepartements (EDI), des Eidgenössischen Departements für Verteidigung, Bevölkerungsschutz und Sport (VBS), des Eidgenössischen Justiz- und Polizeidepartements (EJPD) und der Bundeskanzlei (BK) verstärkt. Die Taskforce hat den Auftrag, die notwendigen Analysen durchzuführen, um vor dem Hintergrund der Ereignisse in Israel und im Besetzten Palästinensischen Gebiet koordinierte Entscheidungen treffen zu können. Der Bundesrat ist der Ansicht, dass die Hamas als terroristische Organisation eingestuft werden sollte. Er hat die TFNO beauftragt, die rechtlichen Optionen für ein Verbot der Organisation zu prüfen.\n",
    "\n",
    "    Der Bundesrat misst dem korrekten Einsatz der finanziellen Unterstützung der Schweiz grosse Bedeutung bei. In diesem Zusammenhang hat das EDA in der Vergangenheit die Verwendung der von der Schweiz an NGO im Nahen Osten gewährten Mittel überprüft und wo nötig Massnahmen ergriffen. Er hat derzeit keine Kenntnis davon, dass Schweizer Gelder der Hamas und ihren Aktivitäten zugute gekommen wären. Das EDA wird eine weitere detaillierte Analyse der Finanzströme im Zusammenhang mit dem Kooperationsprogramm im Nahen Osten durchführen.\n",
    "\n",
    "    Des Weiteren weist der Bundesrat darauf hin, dass dem Schutz der Sicherheit der Schweizer Bürgerinnen und Bürger jüdischen Glaubens sowie der jüdischen Institutionen eine zentrale Bedeutung zukommt.\n",
    "\n",
    "    Schliesslich steht die Schweiz zur Verfügung, um alle Bemühungen mit dem Ziel einer Deeskalation in der Region zu unterstützen.\n",
    "\n",
    "    Adresse für Rückfragen\n",
    "\n",
    "    für weitere Informationen:\n",
    "    Kommunikation EDA  \n",
    "\"\"\""
   ]
  },
  {
   "cell_type": "markdown",
   "metadata": {},
   "source": [
    "# run this ai-machine"
   ]
  },
  {
   "cell_type": "code",
   "execution_count": 5,
   "metadata": {},
   "outputs": [
    {
     "name": "stdout",
     "output_type": "stream",
     "text": [
      "1. Der Bundesrat hat die Terroranschläge der Hamas gegen Israel verurteilt.\n",
      "2. Die Angriffe der Hamas kamen aus dem Gazastreifen und waren gegen Zivilistinnen und Zivilisten in Israel gerichtet.\n",
      "3. Der Bundesrat verlangt die sofortige Freilassung der von der Hamas festgehaltenen Geiseln.\n",
      "4. Der Bundesrat hat entschieden, eine vom Eidgenössischen Departement für auswärtige Angelegenheiten (EDA) eingesetzte Taskforce zu erweitern.\n",
      "5. Der Bundesrat ist der Ansicht, dass die Hamas als terroristische Organisation eingestuft werden sollte.\n",
      "6. Der Bundesrat anerkennt den legitimen Willen Israels zur nationalen Verteidigung und Sicherheit.\n",
      "7. Der Bundesrat ruft zur sofortigen Beendigung der Gewalt auf und erinnert an die Notwendigkeit, die Zivilbevölkerung zu schützen und das humanitäre Völkerrecht einzuhalten.\n",
      "8. Der Bundesrat drückt seine Solidarität mit der israelischen Bevölkerung aus und äußert sein Mitgefühl für die Familien der Opfer.\n",
      "9. Die Taskforce Naher Osten wird durch Vertreterinnen und Vertreter des Präsidialdepartements (EDI), des Eidgenössischen Departements für Verteidigung, Bevölkerungsschutz und Sport (VBS), des Eidgenössischen Justiz- und Polizeidepartements (EJPD) und der Bundeskanzlei (BK) verstärkt.\n",
      "10. Der Bundesrat hat die Taskforce beauftragt, die rechtlichen Optionen für ein Verbot der Hamas zu prüfen.\n",
      "11. Der Bundesrat legt großen Wert auf den korrekten Einsatz der finanziellen Unterstützung der Schweiz und hat das EDA beauftragt, eine weitere detaillierte Analyse der Finanzströme durchzuführen.\n",
      "12. Der Bundesrat hat keine Kenntnis davon, dass Schweizer Gelder der Hamas und ihren Aktivitäten zugute gekommen wären.\n",
      "13. Der Bundesrat betont die zentrale Bedeutung des Schutzes der Sicherheit der Schweizer Bürgerinnen und Bürger jüdischen Glaubens sowie der jüdischen Institutionen.\n",
      "14. Die Schweiz steht zur Verfügung, um alle Bemühungen mit dem Ziel einer Deeskalation in der Region zu unterstützen.\n"
     ]
    }
   ],
   "source": [
    "# result_facts: Analyze the following text and identify all important fact\n",
    "prompt = PromptTemplate.from_template(\"\"\"\n",
    "Analyze the following text and \n",
    "    identify all important facts.  \n",
    "    The text is from news.admin.ch and is an \n",
    "    official media release: \\n {medienmitteilung}\\n\\n\n",
    "    a fact analysis in the same language as\n",
    "    the media release:\n",
    "\"\"\")\n",
    "runnable = prompt | ChatOpenAI(model=model) | StrOutputParser()\n",
    "result_facts = runnable.invoke({\"medienmitteilung\": text_input_medienmitteilung})\n",
    "print(result_facts)"
   ]
  },
  {
   "cell_type": "code",
   "execution_count": 6,
   "metadata": {},
   "outputs": [
    {
     "name": "stdout",
     "output_type": "stream",
     "text": [
      "#Bundesrat #Hamas #Israel #Terroranschläge #Gazastreifen #Geiseln #Taskforce #NaherOsten #Verteidigung #Schweiz\n"
     ]
    }
   ],
   "source": [
    "# result_top10keywords: Identify 10 keywords from the facts\n",
    "prompt = PromptTemplate.from_template(\"\"\"\n",
    "    Identify 10 keywords that are likely to rank well \n",
    "    on Google (Switzerland). \n",
    "    The keywords are in the same language as the \n",
    "    following text and start with a #.\n",
    "\n",
    "    Text: \n",
    "    {facts}\n",
    "    \n",
    "    Examples: #FederalCouncil #Geneva #Nyon #Motorway #A1 #Traffic #Trafficflow #Motorway     \n",
    "    Your keywords incl. #:\n",
    "\"\"\")\n",
    "runnable = prompt | ChatOpenAI(model=model) | StrOutputParser()\n",
    "result_top10keywords = runnable.invoke({\"facts\": result_facts})\n",
    "print(result_top10keywords)"
   ]
  },
  {
   "cell_type": "code",
   "execution_count": 7,
   "metadata": {},
   "outputs": [
    {
     "name": "stdout",
     "output_type": "stream",
     "text": [
      "#Bundesrat #Hamas #Israel\n"
     ]
    }
   ],
   "source": [
    "# result_top3keywords: Analyze the following keywords and text. \n",
    "prompt = PromptTemplate.from_template(\"\"\"\n",
    "    Analyze the following keywords and text. \n",
    "    Identify exactly 3 keywords that can rank \n",
    "    well on Google (Switzerland). \n",
    "\n",
    "    Examples: #FederalCouncil #ChuckNorris #Thailand  (on one line)\n",
    "   \n",
    "    ===============\n",
    "    Keywords: \n",
    "    {top10keywords}\n",
    "\n",
    "    Text: \n",
    "    {medienmitteilung}\n",
    "    ===============\n",
    "    Your top 3 keywords in the same language as the text/keywords:\n",
    "\"\"\")\n",
    "runnable = prompt | ChatOpenAI(model=model) | StrOutputParser()\n",
    "result_top3keywords = runnable.invoke({\"medienmitteilung\": text_input_medienmitteilung, \"top10keywords\": result_top10keywords})\n",
    "print(result_top3keywords)"
   ]
  },
  {
   "cell_type": "code",
   "execution_count": 8,
   "metadata": {},
   "outputs": [
    {
     "name": "stdout",
     "output_type": "stream",
     "text": [
      "1. \"Der #Bundesrat verurteilt die Terrorangriffe der #Hamas gegen #Israel aus dem Gazastreifen und fordert die sofortige Freilassung der Geiseln. 💔🇮🇱🚫🗣️ [url]\"\n",
      "\n",
      "2. \"Um effektive Maßnahmen treffen zu können, erweitert der #Bundesrat die Taskforce Naher Osten. Die Prüfung eines Verbots der #Hamas ist ein Hauptanliegen. 🇨🇭🕊️📝🔍 [url]\"\n",
      "\n",
      "3. \"Der #Bundesrat legt großen Wert auf den korrekten Einsatz der finanziellen Unterstützung und bekräftigt den Schutz der jüdischen Bürger in der Schweiz. 🛡️💰🇨🇭🔍  [url]\"\n"
     ]
    }
   ],
   "source": [
    "# result_tweets: write 3 matching tweets for a specific media release, facts, keywords.\n",
    "prompt = PromptTemplate.from_template(\"\"\"\n",
    "    You are a neutral media spokesperson for the Federal Council \n",
    "    and write 3 matching tweets for a specific media release.\n",
    "    \n",
    "    Your tweets always contain:\n",
    "    1. the 2 most important facts\n",
    "    2. the 3 most important keywords\n",
    "    3. 4 matching emojis.\n",
    "    4. the tweet ends with the string [url].\n",
    "\n",
    "    Rules:\n",
    "    You answer in the same language as the media release.\n",
    "\n",
    "    Sources: \n",
    "    ===========\n",
    "    Facts: {facts}\n",
    "    Top-Keywords: {top3keywords}\n",
    "    Media release: {medienmitteilung}\n",
    "    ==============\n",
    "    Your 3 different tweet suggestions:\n",
    "\"\"\")\n",
    "runnable = prompt | ChatOpenAI(model=model) | StrOutputParser()\n",
    "result_tweets = runnable.invoke({\"medienmitteilung\": text_input_medienmitteilung, \"top3keywords\": result_top3keywords, \"facts\": result_facts})\n",
    "print(result_tweets)"
   ]
  },
  {
   "cell_type": "code",
   "execution_count": 9,
   "metadata": {},
   "outputs": [
    {
     "name": "stdout",
     "output_type": "stream",
     "text": [
      "1. Wie kann der Bundesrat sicherstellen, dass die finanzielle Unterstützung der Schweiz nicht indirekt an die Hamas und ihre Aktivitäten fließt, insbesondere angesichts der geplanten Ausweitung der Taskforce Naher Osten?\n",
      "2. Inwiefern würde ein offizielles Verbot der Hamas durch den Bundesrat die Situation in der Region verbessern und die Sicherheit der israelischen Zivilbevölkerung gewährleisten?\n",
      "3. Welche konkreten Maßnahmen ergreift der Bundesrat, um den Schutz der Sicherheit der Schweizer Bürgerinnen und Bürger jüdischen Glaubens und der jüdischen Institutionen zu gewährleisten, insbesondere in Anbetracht der aktuellen Spannungen?\n"
     ]
    }
   ],
   "source": [
    "# result_fragen_20min: from 20min.ch/Wagenknecht and will collect 3 critical questions. \n",
    "prompt = PromptTemplate.from_template(\"\"\"\n",
    "    You are a reporter (male) for 20min.ch and \n",
    "    will collect 10 critical questions. \n",
    "    At the end we need the 3 most critical \n",
    "    questions.\n",
    "\n",
    "    You think like Sahra Wagenknecht. \n",
    "\n",
    "    It is important that the questions \n",
    "    directly to the press release.\n",
    "    \n",
    "    Important:\n",
    "    The questions are critical but not offensive. \n",
    "    and refer to the media release, the facts and a top keyword.\n",
    "\n",
    "    Rules:\n",
    "    Answer in the same language as the media release.\n",
    "\n",
    "    Sources: \n",
    "    ===========\n",
    "    Facts: {facts}\n",
    "    Top-Keywords: {top3keywords}\n",
    "    Media release: {medienmitteilung}\n",
    "    ==============\n",
    "    Your top-3 moust critical questions:\n",
    "\"\"\")\n",
    "runnable = prompt | ChatOpenAI(model=model) | StrOutputParser()\n",
    "result_fragen_20min = runnable.invoke({\"medienmitteilung\": text_input_medienmitteilung, \"top3keywords\": result_top3keywords, \"facts\": result_facts})\n",
    "print(result_fragen_20min)"
   ]
  },
  {
   "cell_type": "code",
   "execution_count": 10,
   "metadata": {},
   "outputs": [
    {
     "name": "stdout",
     "output_type": "stream",
     "text": [
      "1. Wie wird der Bundesrat sicherstellen, dass die finanzielle Unterstützung der Schweiz nicht indirekt den Hamas-Aktivitäten zugute kommt, wenn er selbst zugibt, dass er derzeit keine Kenntnis davon hat, dass Schweizer Gelder den Aktivitäten der Hamas zugute gekommen wären?\n",
      "2. Wie plant der Bundesrat, die rechtlichen Optionen für ein Verbot der Hamas zu prüfen, und wie wird dieses potenzielle Verbot die aktuelle Situation in der Region beeinflussen?\n",
      "3. Welche konkreten Maßnahmen plant der Bundesrat, um den Schutz der Sicherheit der Schweizer Bürgerinnen und Bürger jüdischen Glaubens sowie der jüdischen Institutionen zu gewährleisten?\n"
     ]
    }
   ],
   "source": [
    "# result_fragen_NZZ: from NZZ/Donald Duck and will collect 3 critical questions. \n",
    "prompt = PromptTemplate.from_template(\"\"\"\n",
    "You are a reporter (female) for the NZZ and will \n",
    "    collect 10 critical questions. \n",
    "    At the end we need the 3 most critical \n",
    "    questions.\n",
    "\n",
    "    You think like Donald Duck.\n",
    "\n",
    "    It is important that the questions \n",
    "    relate directly to the press release.\n",
    "    \n",
    "    This is important:\n",
    "    The questions are critical, but not insulting. \n",
    "    And refer to the press release, the facts and a keyword.\n",
    "\n",
    "    Rules:\n",
    "    Answer in the same language as in the press release.\n",
    "\n",
    "    Sources: \n",
    "    ===========\n",
    "    Facts {facts}\n",
    "    Keywords: {top3keywords}\n",
    "    Media Release: {medienmitteilung}\n",
    "    ==============\n",
    "    Your top 3 most critical questions:\n",
    "\"\"\")\n",
    "runnable = prompt | ChatOpenAI(model=model) | StrOutputParser()\n",
    "result_fragen_nzz = runnable.invoke({\"medienmitteilung\": text_input_medienmitteilung, \"top3keywords\": result_top3keywords, \"facts\": result_facts})\n",
    "print(result_fragen_nzz)"
   ]
  },
  {
   "cell_type": "code",
   "execution_count": 11,
   "metadata": {},
   "outputs": [
    {
     "name": "stdout",
     "output_type": "stream",
     "text": [
      "Die Schweizer Regierung, bekannt als Bundesrat, hat Angriffe von einer Gruppe namens Hamas auf Israel verurteilt. Diese Angriffe kamen aus einem Gebiet namens Gazastreifen und waren gegen unschuldige Menschen in Israel gerichtet. Der Bundesrat möchte, dass die Hamas die Geiseln freilässt, die sie festhält. Sie haben auch ein spezielles Team, bekannt als Taskforce, verstärkt, um besser auf diese Situation reagieren zu können. Sie denken, dass die Hamas als terroristische Organisation eingestuft werden sollte und prüfen rechtliche Möglichkeiten, um sie zu verbieten. Sie versichern auch, dass das Geld der Schweiz richtig genutzt wird und nicht zur Unterstützung der Hamas geht. Der Bundesrat betont auch, dass es wichtig ist, die Sicherheit der schweizerischen Bürger jüdischen Glaubens und jüdischer Institutionen zu schützen. Schließlich sind sie bereit, bei Bemühungen zu helfen, die Spannungen in der Region zu verringern.\n"
     ]
    }
   ],
   "source": [
    "# result_zusammenfassung_kind: summary for a 10 year old child \n",
    "prompt = PromptTemplate.from_template(\"\"\"\n",
    "Create a summary of the following text \n",
    "    for a 10 year old child of a media release.\n",
    "\n",
    "    Important:\n",
    "    Answer in the same language as the media release.\n",
    "\n",
    "    Sources: \n",
    "    ===========\n",
    "    Facts: {facts}\n",
    "    Media release: {medienmitteilung}\n",
    "    ==============\n",
    "    Your child-friendly summary:\n",
    "\"\"\")\n",
    "runnable = prompt | ChatOpenAI(model=model) | StrOutputParser()\n",
    "result_zusammenfassung_kind =  runnable.invoke({\"medienmitteilung\": text_input_medienmitteilung, \"facts\": result_facts})\n",
    "print(result_zusammenfassung_kind)"
   ]
  },
  {
   "cell_type": "code",
   "execution_count": 12,
   "metadata": {},
   "outputs": [
    {
     "name": "stdout",
     "output_type": "stream",
     "text": [
      "\"Create a black and white comic book panel, depicting a scene in Switzerland where the Swiss government, known as Bundesrat, is condemning attacks by a group called Hamas on Israel. The scene should show the Bundesrat insisting on the release of hostages held by Hamas, strengthening a special team known as the taskforce, and exploring legal options to classify Hamas as a terrorist organization. Include elements showing their commitment to protect the safety of Swiss citizens of Jewish faith and Jewish institutions, and their readiness to help reduce tensions in the region. The panel should have a comic illustration reminiscent of European adventure comics of the mid-21th century, and should convey this information in an informative way. Include a dramatic sound effect text saying '#Bundesrat #Hamas #Israel'.\"\n"
     ]
    }
   ],
   "source": [
    "# result_dalle3prompt: DALL-E prompt : black and white comic book panel in style of asterix & obelix in mid-21th \n",
    "# copy-paste the result_dalle3prompt into a good image generator like Midjourney or DallE-3 \n",
    "prompt = PromptTemplate.from_template(\"\"\"\n",
    "Create a prompt to generate \n",
    "    with DALL-E a matching image.\n",
    "\n",
    "    Important Roules:\n",
    "    =================\n",
    "    1) Your DALL-E Prompt must be in english.\n",
    "    2) It must include the following texts:\n",
    "        A)\"create a black and white comic book panel\"\n",
    "        B)\"comic illustration reminiscent of European adventure comics of the mid-21th century\"\n",
    "        C)\"in a informative way.\" \n",
    "        D) [SCENE]\n",
    "        E) The scene plays in switzerland.\n",
    "    3) \"Include a dramatic sound effect text saying &quot;{top3keywords}&quot;\n",
    "    =================\n",
    "\n",
    "    Contextinformation for the [SCENE]: {zusammenfassung_kind}\n",
    "    ==============\n",
    "    Generated the [SCENE] and following the rules 1-3!\n",
    "    ==============\n",
    "    Your DALL-E Prompt follows rules 1-3:\n",
    "\"\"\")\n",
    "runnable = prompt | ChatOpenAI(model=model) | StrOutputParser()\n",
    "result_dalle3prompt =  runnable.invoke({\"zusammenfassung_kind\": result_zusammenfassung_kind, \"top3keywords\": result_top3keywords, \"facts\": result_facts})\n",
    "print(result_dalle3prompt)"
   ]
  },
  {
   "cell_type": "code",
   "execution_count": 14,
   "metadata": {},
   "outputs": [
    {
     "ename": "InvalidRequestError",
     "evalue": "Your request was rejected as a result of our safety system. Your prompt may contain text that is not allowed by our safety system.",
     "output_type": "error",
     "traceback": [
      "\u001b[0;31m---------------------------------------------------------------------------\u001b[0m",
      "\u001b[0;31mInvalidRequestError\u001b[0m                       Traceback (most recent call last)",
      "\u001b[1;32m/workspaces/s3o_npc/notebooks/chain.ipynb Zelle 16\u001b[0m line \u001b[0;36m1\n\u001b[1;32m      <a href='vscode-notebook-cell://codespaces%2Bideal-parakeet-pvrr75q94436vxw/workspaces/s3o_npc/notebooks/chain.ipynb#X21sdnNjb2RlLXJlbW90ZQ%3D%3D?line=7'>8</a>\u001b[0m prompt \u001b[39m=\u001b[39m PromptTemplate(\n\u001b[1;32m      <a href='vscode-notebook-cell://codespaces%2Bideal-parakeet-pvrr75q94436vxw/workspaces/s3o_npc/notebooks/chain.ipynb#X21sdnNjb2RlLXJlbW90ZQ%3D%3D?line=8'>9</a>\u001b[0m     input_variables\u001b[39m=\u001b[39m[\u001b[39m\"\u001b[39m\u001b[39mimage_desc\u001b[39m\u001b[39m\"\u001b[39m],\n\u001b[1;32m     <a href='vscode-notebook-cell://codespaces%2Bideal-parakeet-pvrr75q94436vxw/workspaces/s3o_npc/notebooks/chain.ipynb#X21sdnNjb2RlLXJlbW90ZQ%3D%3D?line=9'>10</a>\u001b[0m     template\u001b[39m=\u001b[39m\u001b[39m\"\u001b[39m\u001b[39m{image_desc}\u001b[39;00m\u001b[39m\"\u001b[39m,\n\u001b[1;32m     <a href='vscode-notebook-cell://codespaces%2Bideal-parakeet-pvrr75q94436vxw/workspaces/s3o_npc/notebooks/chain.ipynb#X21sdnNjb2RlLXJlbW90ZQ%3D%3D?line=10'>11</a>\u001b[0m )\n\u001b[1;32m     <a href='vscode-notebook-cell://codespaces%2Bideal-parakeet-pvrr75q94436vxw/workspaces/s3o_npc/notebooks/chain.ipynb#X21sdnNjb2RlLXJlbW90ZQ%3D%3D?line=11'>12</a>\u001b[0m chain \u001b[39m=\u001b[39m LLMChain(llm\u001b[39m=\u001b[39mllm, prompt\u001b[39m=\u001b[39mprompt)\n\u001b[0;32m---> <a href='vscode-notebook-cell://codespaces%2Bideal-parakeet-pvrr75q94436vxw/workspaces/s3o_npc/notebooks/chain.ipynb#X21sdnNjb2RlLXJlbW90ZQ%3D%3D?line=12'>13</a>\u001b[0m image_url \u001b[39m=\u001b[39m DallEAPIWrapper()\u001b[39m.\u001b[39;49mrun(chain\u001b[39m.\u001b[39;49mrun(result_dalle3prompt))\n\u001b[1;32m     <a href='vscode-notebook-cell://codespaces%2Bideal-parakeet-pvrr75q94436vxw/workspaces/s3o_npc/notebooks/chain.ipynb#X21sdnNjb2RlLXJlbW90ZQ%3D%3D?line=13'>14</a>\u001b[0m image_url\n",
      "File \u001b[0;32m~/.python/current/lib/python3.10/site-packages/langchain/utilities/dalle_image_generator.py:54\u001b[0m, in \u001b[0;36mDallEAPIWrapper.run\u001b[0;34m(self, query)\u001b[0m\n\u001b[1;32m     52\u001b[0m \u001b[39mdef\u001b[39;00m \u001b[39mrun\u001b[39m(\u001b[39mself\u001b[39m, query: \u001b[39mstr\u001b[39m) \u001b[39m-\u001b[39m\u001b[39m>\u001b[39m \u001b[39mstr\u001b[39m:\n\u001b[1;32m     53\u001b[0m \u001b[39m    \u001b[39m\u001b[39m\"\"\"Run query through OpenAI and parse result.\"\"\"\u001b[39;00m\n\u001b[0;32m---> 54\u001b[0m     image_url \u001b[39m=\u001b[39m \u001b[39mself\u001b[39;49m\u001b[39m.\u001b[39;49m_dalle_image_url(query)\n\u001b[1;32m     56\u001b[0m     \u001b[39mif\u001b[39;00m image_url \u001b[39mis\u001b[39;00m \u001b[39mNone\u001b[39;00m \u001b[39mor\u001b[39;00m image_url \u001b[39m==\u001b[39m \u001b[39m\"\u001b[39m\u001b[39m\"\u001b[39m:\n\u001b[1;32m     57\u001b[0m         \u001b[39m# We don't want to return the assumption alone if answer is empty\u001b[39;00m\n\u001b[1;32m     58\u001b[0m         \u001b[39mreturn\u001b[39;00m \u001b[39m\"\u001b[39m\u001b[39mNo image was generated\u001b[39m\u001b[39m\"\u001b[39m\n",
      "File \u001b[0;32m~/.python/current/lib/python3.10/site-packages/langchain/utilities/dalle_image_generator.py:31\u001b[0m, in \u001b[0;36mDallEAPIWrapper._dalle_image_url\u001b[0;34m(self, prompt)\u001b[0m\n\u001b[1;32m     29\u001b[0m \u001b[39mdef\u001b[39;00m \u001b[39m_dalle_image_url\u001b[39m(\u001b[39mself\u001b[39m, prompt: \u001b[39mstr\u001b[39m) \u001b[39m-\u001b[39m\u001b[39m>\u001b[39m \u001b[39mstr\u001b[39m:\n\u001b[1;32m     30\u001b[0m     params \u001b[39m=\u001b[39m {\u001b[39m\"\u001b[39m\u001b[39mprompt\u001b[39m\u001b[39m\"\u001b[39m: prompt, \u001b[39m\"\u001b[39m\u001b[39mn\u001b[39m\u001b[39m\"\u001b[39m: \u001b[39mself\u001b[39m\u001b[39m.\u001b[39mn, \u001b[39m\"\u001b[39m\u001b[39msize\u001b[39m\u001b[39m\"\u001b[39m: \u001b[39mself\u001b[39m\u001b[39m.\u001b[39msize}\n\u001b[0;32m---> 31\u001b[0m     response \u001b[39m=\u001b[39m \u001b[39mself\u001b[39;49m\u001b[39m.\u001b[39;49mclient\u001b[39m.\u001b[39;49mcreate(\u001b[39m*\u001b[39;49m\u001b[39m*\u001b[39;49mparams)\n\u001b[1;32m     32\u001b[0m     \u001b[39mreturn\u001b[39;00m response[\u001b[39m\"\u001b[39m\u001b[39mdata\u001b[39m\u001b[39m\"\u001b[39m][\u001b[39m0\u001b[39m][\u001b[39m\"\u001b[39m\u001b[39murl\u001b[39m\u001b[39m\"\u001b[39m]\n",
      "File \u001b[0;32m~/.python/current/lib/python3.10/site-packages/openai/api_resources/image.py:39\u001b[0m, in \u001b[0;36mImage.create\u001b[0;34m(cls, api_key, api_base, api_type, api_version, organization, **params)\u001b[0m\n\u001b[1;32m     29\u001b[0m requestor \u001b[39m=\u001b[39m api_requestor\u001b[39m.\u001b[39mAPIRequestor(\n\u001b[1;32m     30\u001b[0m     api_key,\n\u001b[1;32m     31\u001b[0m     api_base\u001b[39m=\u001b[39mapi_base \u001b[39mor\u001b[39;00m openai\u001b[39m.\u001b[39mapi_base,\n\u001b[0;32m   (...)\u001b[0m\n\u001b[1;32m     34\u001b[0m     organization\u001b[39m=\u001b[39morganization,\n\u001b[1;32m     35\u001b[0m )\n\u001b[1;32m     37\u001b[0m api_type, api_version \u001b[39m=\u001b[39m \u001b[39mcls\u001b[39m\u001b[39m.\u001b[39m_get_api_type_and_version(api_type, api_version)\n\u001b[0;32m---> 39\u001b[0m response, _, api_key \u001b[39m=\u001b[39m requestor\u001b[39m.\u001b[39;49mrequest(\n\u001b[1;32m     40\u001b[0m     \u001b[39m\"\u001b[39;49m\u001b[39mpost\u001b[39;49m\u001b[39m\"\u001b[39;49m, \u001b[39mcls\u001b[39;49m\u001b[39m.\u001b[39;49m_get_url(\u001b[39m\"\u001b[39;49m\u001b[39mgenerations\u001b[39;49m\u001b[39m\"\u001b[39;49m, azure_action\u001b[39m=\u001b[39;49m\u001b[39m\"\u001b[39;49m\u001b[39msubmit\u001b[39;49m\u001b[39m\"\u001b[39;49m, api_type\u001b[39m=\u001b[39;49mapi_type, api_version\u001b[39m=\u001b[39;49mapi_version), params\n\u001b[1;32m     41\u001b[0m )\n\u001b[1;32m     43\u001b[0m \u001b[39mif\u001b[39;00m api_type \u001b[39min\u001b[39;00m (util\u001b[39m.\u001b[39mApiType\u001b[39m.\u001b[39mAZURE, util\u001b[39m.\u001b[39mApiType\u001b[39m.\u001b[39mAZURE_AD):\n\u001b[1;32m     44\u001b[0m     requestor\u001b[39m.\u001b[39mapi_base \u001b[39m=\u001b[39m \u001b[39m\"\u001b[39m\u001b[39m\"\u001b[39m \u001b[39m# operation_location is a full url\u001b[39;00m\n",
      "File \u001b[0;32m~/.python/current/lib/python3.10/site-packages/openai/api_requestor.py:299\u001b[0m, in \u001b[0;36mAPIRequestor.request\u001b[0;34m(self, method, url, params, headers, files, stream, request_id, request_timeout)\u001b[0m\n\u001b[1;32m    278\u001b[0m \u001b[39mdef\u001b[39;00m \u001b[39mrequest\u001b[39m(\n\u001b[1;32m    279\u001b[0m     \u001b[39mself\u001b[39m,\n\u001b[1;32m    280\u001b[0m     method,\n\u001b[0;32m   (...)\u001b[0m\n\u001b[1;32m    287\u001b[0m     request_timeout: Optional[Union[\u001b[39mfloat\u001b[39m, Tuple[\u001b[39mfloat\u001b[39m, \u001b[39mfloat\u001b[39m]]] \u001b[39m=\u001b[39m \u001b[39mNone\u001b[39;00m,\n\u001b[1;32m    288\u001b[0m ) \u001b[39m-\u001b[39m\u001b[39m>\u001b[39m Tuple[Union[OpenAIResponse, Iterator[OpenAIResponse]], \u001b[39mbool\u001b[39m, \u001b[39mstr\u001b[39m]:\n\u001b[1;32m    289\u001b[0m     result \u001b[39m=\u001b[39m \u001b[39mself\u001b[39m\u001b[39m.\u001b[39mrequest_raw(\n\u001b[1;32m    290\u001b[0m         method\u001b[39m.\u001b[39mlower(),\n\u001b[1;32m    291\u001b[0m         url,\n\u001b[0;32m   (...)\u001b[0m\n\u001b[1;32m    297\u001b[0m         request_timeout\u001b[39m=\u001b[39mrequest_timeout,\n\u001b[1;32m    298\u001b[0m     )\n\u001b[0;32m--> 299\u001b[0m     resp, got_stream \u001b[39m=\u001b[39m \u001b[39mself\u001b[39;49m\u001b[39m.\u001b[39;49m_interpret_response(result, stream)\n\u001b[1;32m    300\u001b[0m     \u001b[39mreturn\u001b[39;00m resp, got_stream, \u001b[39mself\u001b[39m\u001b[39m.\u001b[39mapi_key\n",
      "File \u001b[0;32m~/.python/current/lib/python3.10/site-packages/openai/api_requestor.py:710\u001b[0m, in \u001b[0;36mAPIRequestor._interpret_response\u001b[0;34m(self, result, stream)\u001b[0m\n\u001b[1;32m    702\u001b[0m     \u001b[39mreturn\u001b[39;00m (\n\u001b[1;32m    703\u001b[0m         \u001b[39mself\u001b[39m\u001b[39m.\u001b[39m_interpret_response_line(\n\u001b[1;32m    704\u001b[0m             line, result\u001b[39m.\u001b[39mstatus_code, result\u001b[39m.\u001b[39mheaders, stream\u001b[39m=\u001b[39m\u001b[39mTrue\u001b[39;00m\n\u001b[1;32m    705\u001b[0m         )\n\u001b[1;32m    706\u001b[0m         \u001b[39mfor\u001b[39;00m line \u001b[39min\u001b[39;00m parse_stream(result\u001b[39m.\u001b[39miter_lines())\n\u001b[1;32m    707\u001b[0m     ), \u001b[39mTrue\u001b[39;00m\n\u001b[1;32m    708\u001b[0m \u001b[39melse\u001b[39;00m:\n\u001b[1;32m    709\u001b[0m     \u001b[39mreturn\u001b[39;00m (\n\u001b[0;32m--> 710\u001b[0m         \u001b[39mself\u001b[39;49m\u001b[39m.\u001b[39;49m_interpret_response_line(\n\u001b[1;32m    711\u001b[0m             result\u001b[39m.\u001b[39;49mcontent\u001b[39m.\u001b[39;49mdecode(\u001b[39m\"\u001b[39;49m\u001b[39mutf-8\u001b[39;49m\u001b[39m\"\u001b[39;49m),\n\u001b[1;32m    712\u001b[0m             result\u001b[39m.\u001b[39;49mstatus_code,\n\u001b[1;32m    713\u001b[0m             result\u001b[39m.\u001b[39;49mheaders,\n\u001b[1;32m    714\u001b[0m             stream\u001b[39m=\u001b[39;49m\u001b[39mFalse\u001b[39;49;00m,\n\u001b[1;32m    715\u001b[0m         ),\n\u001b[1;32m    716\u001b[0m         \u001b[39mFalse\u001b[39;00m,\n\u001b[1;32m    717\u001b[0m     )\n",
      "File \u001b[0;32m~/.python/current/lib/python3.10/site-packages/openai/api_requestor.py:775\u001b[0m, in \u001b[0;36mAPIRequestor._interpret_response_line\u001b[0;34m(self, rbody, rcode, rheaders, stream)\u001b[0m\n\u001b[1;32m    773\u001b[0m stream_error \u001b[39m=\u001b[39m stream \u001b[39mand\u001b[39;00m \u001b[39m\"\u001b[39m\u001b[39merror\u001b[39m\u001b[39m\"\u001b[39m \u001b[39min\u001b[39;00m resp\u001b[39m.\u001b[39mdata\n\u001b[1;32m    774\u001b[0m \u001b[39mif\u001b[39;00m stream_error \u001b[39mor\u001b[39;00m \u001b[39mnot\u001b[39;00m \u001b[39m200\u001b[39m \u001b[39m<\u001b[39m\u001b[39m=\u001b[39m rcode \u001b[39m<\u001b[39m \u001b[39m300\u001b[39m:\n\u001b[0;32m--> 775\u001b[0m     \u001b[39mraise\u001b[39;00m \u001b[39mself\u001b[39m\u001b[39m.\u001b[39mhandle_error_response(\n\u001b[1;32m    776\u001b[0m         rbody, rcode, resp\u001b[39m.\u001b[39mdata, rheaders, stream_error\u001b[39m=\u001b[39mstream_error\n\u001b[1;32m    777\u001b[0m     )\n\u001b[1;32m    778\u001b[0m \u001b[39mreturn\u001b[39;00m resp\n",
      "\u001b[0;31mInvalidRequestError\u001b[0m: Your request was rejected as a result of our safety system. Your prompt may contain text that is not allowed by our safety system."
     ]
    }
   ],
   "source": [
    "# link to a DELL-E 2 image (Midjourney or DallE-3 are much better!)\n",
    "from langchain.utilities.dalle_image_generator import DallEAPIWrapper\n",
    "from langchain.prompts import PromptTemplate\n",
    "from langchain.chains import LLMChain\n",
    "from langchain.llms import OpenAI\n",
    "\n",
    "llm = OpenAI(temperature=0.9)\n",
    "prompt = PromptTemplate(\n",
    "    input_variables=[\"image_desc\"],\n",
    "    template=\"{image_desc}\",\n",
    ")\n",
    "chain = LLMChain(llm=llm, prompt=prompt)\n",
    "image_url = DallEAPIWrapper().run(chain.run(result_dalle3prompt))\n",
    "image_url"
   ]
  }
 ],
 "metadata": {
  "kernelspec": {
   "display_name": "Python 3",
   "language": "python",
   "name": "python3"
  },
  "language_info": {
   "codemirror_mode": {
    "name": "ipython",
    "version": 3
   },
   "file_extension": ".py",
   "mimetype": "text/x-python",
   "name": "python",
   "nbconvert_exporter": "python",
   "pygments_lexer": "ipython3",
   "version": "3.10.8"
  }
 },
 "nbformat": 4,
 "nbformat_minor": 2
}
