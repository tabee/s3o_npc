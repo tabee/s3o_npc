{
 "cells": [
  {
   "cell_type": "markdown",
   "metadata": {},
   "source": [
    "# setup"
   ]
  },
  {
   "cell_type": "code",
   "execution_count": null,
   "metadata": {},
   "outputs": [],
   "source": [
    "#setup requirements\n",
    "%pip install -r ./../requirements.txt"
   ]
  },
  {
   "cell_type": "code",
   "execution_count": null,
   "metadata": {},
   "outputs": [],
   "source": [
    "# load openai_api_key from .env file\n",
    "from dotenv import load_dotenv\n",
    "import os\n",
    "\n",
    "load_dotenv()\n",
    "openai_api_key = os.environ.get('OPENAI_API_KEY')\n",
    "\n",
    "model=\"gpt-4\"\n"
   ]
  },
  {
   "cell_type": "code",
   "execution_count": null,
   "metadata": {},
   "outputs": [],
   "source": [
    "# import of langchain\n",
    "from langchain.prompts import PromptTemplate\n",
    "from langchain.chat_models import ChatOpenAI\n",
    "from langchain.schema import StrOutputParser"
   ]
  },
  {
   "cell_type": "markdown",
   "metadata": {},
   "source": [
    "# copy-paste a media release as 'text_input_medienmitteilung'"
   ]
  },
  {
   "cell_type": "code",
   "execution_count": null,
   "metadata": {},
   "outputs": [],
   "source": [
    "text_input_medienmitteilung = \"\"\"\n",
    "\n",
    "    # Medienmitteilung\n",
    "\n",
    "    ## Der Bundesrat verurteilt die Terroranschläge der Hamas gegen Israel und stärkt seine Handlungsfähigkeit\n",
    "    \n",
    "    Bern, 11.10.2023 - Der Bundesrat hat sich an seiner Sitzung vom 11. Oktober 2023 mit den jüngsten schockierenden Angriffen befasst, die von der Hamas aus dem Gazastreifen gegen Zivilistinnen und Zivilisten in Israel verübt wurden. Er verurteilt diese terroristischen Anschläge auf das Schärfste und fordert die sofortige Freilassung der von der Hamas festgehaltenen Geiseln. Angesichts dieser Ereignisse muss die Schweiz wirksam und koordiniert handeln können. Der Bundesrat hat deshalb entschieden, die vom Eidgenössischen Departement für auswärtige Angelegenheiten (EDA) eingesetzte Taskforce zu einer Taskforce des Bundesrates zu erweitern. Der Bundesrat ist der Ansicht, dass die Hamas als terroristische Organisation eingestuft werden sollte.\n",
    "\n",
    "    Der Bundesrat verurteilt die Terrorangriffe, die von der Hamas aus dem Gazastreifen gegen Zivilistinnen und Zivilisten in Israel verübt wurden, auf das Schärfste und erkennt den legitimen Willen Israels zur nationalen Verteidigung und Sicherheit an. Er ruft zur sofortigen Freilassung der von der Hamas als Geiseln genommenen Personen auf. Der Bundesrat fordert ein sofortiges Ende der Gewalt und erinnert daran, dass die Zivilbevölkerung jederzeit zu schützen und das humanitäre Völkerrecht einzuhalten ist. Er drückt seine Solidarität mit der israelischen Bevölkerung aus und bekundet den Familien der Opfer sein tief empfundenes Mitgefühl.\n",
    "\n",
    "    Um wirksam und koordiniert handeln zu können, hat der Bundesrat entschieden, die vom Eidgenössischen Departement für auswärtige Angelegenheiten (EDA) eingesetzte Taskforce Naher Osten zu einer Taskforce des Bundesrates zu erweitern. Die vom EDA geleitete TFNO wird durch Vertreterinnen und Vertreter des Präsidialdepartements (EDI), des Eidgenössischen Departements für Verteidigung, Bevölkerungsschutz und Sport (VBS), des Eidgenössischen Justiz- und Polizeidepartements (EJPD) und der Bundeskanzlei (BK) verstärkt. Die Taskforce hat den Auftrag, die notwendigen Analysen durchzuführen, um vor dem Hintergrund der Ereignisse in Israel und im Besetzten Palästinensischen Gebiet koordinierte Entscheidungen treffen zu können. Der Bundesrat ist der Ansicht, dass die Hamas als terroristische Organisation eingestuft werden sollte. Er hat die TFNO beauftragt, die rechtlichen Optionen für ein Verbot der Organisation zu prüfen.\n",
    "\n",
    "    Der Bundesrat misst dem korrekten Einsatz der finanziellen Unterstützung der Schweiz grosse Bedeutung bei. In diesem Zusammenhang hat das EDA in der Vergangenheit die Verwendung der von der Schweiz an NGO im Nahen Osten gewährten Mittel überprüft und wo nötig Massnahmen ergriffen. Er hat derzeit keine Kenntnis davon, dass Schweizer Gelder der Hamas und ihren Aktivitäten zugute gekommen wären. Das EDA wird eine weitere detaillierte Analyse der Finanzströme im Zusammenhang mit dem Kooperationsprogramm im Nahen Osten durchführen.\n",
    "\n",
    "    Des Weiteren weist der Bundesrat darauf hin, dass dem Schutz der Sicherheit der Schweizer Bürgerinnen und Bürger jüdischen Glaubens sowie der jüdischen Institutionen eine zentrale Bedeutung zukommt.\n",
    "\n",
    "    Schliesslich steht die Schweiz zur Verfügung, um alle Bemühungen mit dem Ziel einer Deeskalation in der Region zu unterstützen.\n",
    "\n",
    "    Adresse für Rückfragen\n",
    "\n",
    "    für weitere Informationen:\n",
    "    Kommunikation EDA  \n",
    "\"\"\""
   ]
  },
  {
   "cell_type": "markdown",
   "metadata": {},
   "source": [
    "# run this ai-machine"
   ]
  },
  {
   "cell_type": "code",
   "execution_count": null,
   "metadata": {},
   "outputs": [],
   "source": [
    "# result_facts: Analyze the following text and identify all important fact\n",
    "prompt = PromptTemplate.from_template(\"\"\"\n",
    "Analyze the following text and \n",
    "    identify all important facts.  \n",
    "    The text is from news.admin.ch and is an \n",
    "    official media release: \\n {medienmitteilung}\\n\\n\n",
    "    a fact analysis in the same language as\n",
    "    the media release:\n",
    "\"\"\")\n",
    "runnable = prompt | ChatOpenAI(model=model) | StrOutputParser()\n",
    "result_facts = runnable.invoke({\"medienmitteilung\": text_input_medienmitteilung})\n",
    "print(result_facts)"
   ]
  },
  {
   "cell_type": "code",
   "execution_count": null,
   "metadata": {},
   "outputs": [],
   "source": [
    "# result_top10keywords: Identify 10 keywords from the facts\n",
    "prompt = PromptTemplate.from_template(\"\"\"\n",
    "    Identify 10 keywords that are likely to rank well \n",
    "    on Google (Switzerland). \n",
    "    The keywords are in the same language as the \n",
    "    following text and start with a #.\n",
    "\n",
    "    Text: \n",
    "    {facts}\n",
    "    \n",
    "    Examples: #FederalCouncil #Geneva #Nyon #Motorway #A1 #Traffic #Trafficflow #Motorway     \n",
    "    Your keywords incl. #:\n",
    "\"\"\")\n",
    "runnable = prompt | ChatOpenAI(model=model) | StrOutputParser()\n",
    "result_top10keywords = runnable.invoke({\"facts\": result_facts})\n",
    "print(result_top10keywords)"
   ]
  },
  {
   "cell_type": "code",
   "execution_count": null,
   "metadata": {},
   "outputs": [],
   "source": [
    "# result_top3keywords: Analyze the following keywords and text. \n",
    "prompt = PromptTemplate.from_template(\"\"\"\n",
    "    Analyze the following keywords and text. \n",
    "    Identify exactly 3 keywords that can rank \n",
    "    well on Google (Switzerland). \n",
    "\n",
    "    Examples: #FederalCouncil #ChuckNorris #Thailand  (on one line)\n",
    "   \n",
    "    ===============\n",
    "    Keywords: \n",
    "    {top10keywords}\n",
    "\n",
    "    Text: \n",
    "    {medienmitteilung}\n",
    "    ===============\n",
    "    Your top 3 keywords in the same language as the text/keywords:\n",
    "\"\"\")\n",
    "runnable = prompt | ChatOpenAI(model=model) | StrOutputParser()\n",
    "result_top3keywords = runnable.invoke({\"medienmitteilung\": text_input_medienmitteilung, \"top10keywords\": result_top10keywords})\n",
    "print(result_top3keywords)"
   ]
  },
  {
   "cell_type": "code",
   "execution_count": null,
   "metadata": {},
   "outputs": [],
   "source": [
    "# result_tweets: write 3 matching tweets for a specific media release, facts, keywords.\n",
    "prompt = PromptTemplate.from_template(\"\"\"\n",
    "    You are a neutral media spokesperson for the Federal Council \n",
    "    and write 3 matching tweets for a specific media release.\n",
    "    \n",
    "    Your tweets always contain:\n",
    "    1. the 2 most important facts\n",
    "    2. the 3 most important keywords\n",
    "    3. 4 matching emojis.\n",
    "    4. the tweet ends with the string [url].\n",
    "\n",
    "    Rules:\n",
    "    You answer in the same language as the media release.\n",
    "\n",
    "    Sources: \n",
    "    ===========\n",
    "    Facts: {facts}\n",
    "    Top-Keywords: {top3keywords}\n",
    "    Media release: {medienmitteilung}\n",
    "    ==============\n",
    "    Your 3 different tweet suggestions:\n",
    "\"\"\")\n",
    "runnable = prompt | ChatOpenAI(model=model) | StrOutputParser()\n",
    "result_tweets = runnable.invoke({\"medienmitteilung\": text_input_medienmitteilung, \"top3keywords\": result_top3keywords, \"facts\": result_facts})\n",
    "print(result_tweets)"
   ]
  },
  {
   "cell_type": "code",
   "execution_count": null,
   "metadata": {},
   "outputs": [],
   "source": [
    "# result_fragen_20min: from 20min.ch/Wagenknecht and will collect 3 critical questions. \n",
    "prompt = PromptTemplate.from_template(\"\"\"\n",
    "    You are a reporter (male) for 20min.ch and \n",
    "    will collect 10 critical questions. \n",
    "    At the end we need the 3 most critical \n",
    "    questions.\n",
    "\n",
    "    You think like Sahra Wagenknecht. \n",
    "\n",
    "    It is important that the questions \n",
    "    directly to the press release.\n",
    "    \n",
    "    Important:\n",
    "    The questions are critical but not offensive. \n",
    "    and refer to the media release, the facts and a top keyword.\n",
    "\n",
    "    Rules:\n",
    "    Answer in the same language as the media release.\n",
    "\n",
    "    Sources: \n",
    "    ===========\n",
    "    Facts: {facts}\n",
    "    Top-Keywords: {top3keywords}\n",
    "    Media release: {medienmitteilung}\n",
    "    ==============\n",
    "    Your top-3 moust critical questions:\n",
    "\"\"\")\n",
    "runnable = prompt | ChatOpenAI(model=model) | StrOutputParser()\n",
    "result_fragen_20min = runnable.invoke({\"medienmitteilung\": text_input_medienmitteilung, \"top3keywords\": result_top3keywords, \"facts\": result_facts})\n",
    "print(result_fragen_20min)"
   ]
  },
  {
   "cell_type": "code",
   "execution_count": null,
   "metadata": {},
   "outputs": [],
   "source": [
    "# result_fragen_NZZ: from NZZ/Donald Duck and will collect 3 critical questions. \n",
    "prompt = PromptTemplate.from_template(\"\"\"\n",
    "You are a reporter (female) for the NZZ and will \n",
    "    collect 10 critical questions. \n",
    "    At the end we need the 3 most critical \n",
    "    questions.\n",
    "\n",
    "    You think like Donald Duck.\n",
    "\n",
    "    It is important that the questions \n",
    "    relate directly to the press release.\n",
    "    \n",
    "    This is important:\n",
    "    The questions are critical, but not insulting. \n",
    "    And refer to the press release, the facts and a keyword.\n",
    "\n",
    "    Rules:\n",
    "    Answer in the same language as in the press release.\n",
    "\n",
    "    Sources: \n",
    "    ===========\n",
    "    Facts {facts}\n",
    "    Keywords: {top3keywords}\n",
    "    Media Release: {medienmitteilung}\n",
    "    ==============\n",
    "    Your top 3 most critical questions:\n",
    "\"\"\")\n",
    "runnable = prompt | ChatOpenAI(model=model) | StrOutputParser()\n",
    "result_fragen_nzz = runnable.invoke({\"medienmitteilung\": text_input_medienmitteilung, \"top3keywords\": result_top3keywords, \"facts\": result_facts})\n",
    "print(result_fragen_nzz)"
   ]
  },
  {
   "cell_type": "code",
   "execution_count": null,
   "metadata": {},
   "outputs": [],
   "source": [
    "# result_zusammenfassung_kind: summary for a 10 year old child \n",
    "prompt = PromptTemplate.from_template(\"\"\"\n",
    "Create a summary of the following text \n",
    "    for a 10 year old child of a media release.\n",
    "\n",
    "    Important:\n",
    "    Answer in the same language as the media release.\n",
    "\n",
    "    Sources: \n",
    "    ===========\n",
    "    Facts: {facts}\n",
    "    Media release: {medienmitteilung}\n",
    "    ==============\n",
    "    Your child-friendly summary:\n",
    "\"\"\")\n",
    "runnable = prompt | ChatOpenAI(model=model) | StrOutputParser()\n",
    "result_zusammenfassung_kind =  runnable.invoke({\"medienmitteilung\": text_input_medienmitteilung, \"facts\": result_facts})\n",
    "print(result_zusammenfassung_kind)"
   ]
  },
  {
   "cell_type": "code",
   "execution_count": null,
   "metadata": {},
   "outputs": [],
   "source": [
    "# result_dalle3prompt: DALL-E prompt : black and white comic book panel in style of asterix & obelix in mid-21th \n",
    "# copy-paste the result_dalle3prompt into a good image generator like Midjourney or DallE-3 \n",
    "prompt = PromptTemplate.from_template(\"\"\"\n",
    "Create a prompt to generate \n",
    "    with DALL-E a matching image.\n",
    "\n",
    "    Important Roules:\n",
    "    =================\n",
    "    1) Your DALL-E Prompt must be in english.\n",
    "    2) It must include the following texts:\n",
    "        A)\"create a black and white comic book panel\"\n",
    "        B)\"comic illustration reminiscent of European adventure comics of the mid-21th century\"\n",
    "        C)\"in a informative way.\" \n",
    "        D) [SCENE]\n",
    "        E) The scene plays in switzerland.\n",
    "    3) \"Include a dramatic sound effect text saying &quot;{top3keywords}&quot;\n",
    "    =================\n",
    "\n",
    "    Contextinformation for the [SCENE]: {zusammenfassung_kind}\n",
    "    ==============\n",
    "    Generated the [SCENE] and following the rules 1-3!\n",
    "    ==============\n",
    "    Your DALL-E Prompt follows rules 1-3:\n",
    "\"\"\")\n",
    "runnable = prompt | ChatOpenAI(model=model) | StrOutputParser()\n",
    "result_dalle3prompt =  runnable.invoke({\"zusammenfassung_kind\": result_zusammenfassung_kind, \"top3keywords\": result_top3keywords, \"facts\": result_facts})\n",
    "print(result_dalle3prompt)"
   ]
  },
  {
   "cell_type": "code",
   "execution_count": null,
   "metadata": {},
   "outputs": [],
   "source": [
    "# link to a DELL-E 2 image (Midjourney or DallE-3 are much better!)\n",
    "from langchain.utilities.dalle_image_generator import DallEAPIWrapper\n",
    "from langchain.prompts import PromptTemplate\n",
    "from langchain.chains import LLMChain\n",
    "from langchain.llms import OpenAI\n",
    "\n",
    "llm = OpenAI(temperature=0.9)\n",
    "prompt = PromptTemplate(\n",
    "    input_variables=[\"image_desc\"],\n",
    "    template=\"{image_desc}\",\n",
    ")\n",
    "chain = LLMChain(llm=llm, prompt=prompt)\n",
    "image_url = DallEAPIWrapper().run(chain.run(result_dalle3prompt))\n",
    "image_url"
   ]
  }
 ],
 "metadata": {
  "kernelspec": {
   "display_name": "Python 3",
   "language": "python",
   "name": "python3"
  },
  "language_info": {
   "codemirror_mode": {
    "name": "ipython",
    "version": 3
   },
   "file_extension": ".py",
   "mimetype": "text/x-python",
   "name": "python",
   "nbconvert_exporter": "python",
   "pygments_lexer": "ipython3",
   "version": "3.10.8"
  }
 },
 "nbformat": 4,
 "nbformat_minor": 2
}
